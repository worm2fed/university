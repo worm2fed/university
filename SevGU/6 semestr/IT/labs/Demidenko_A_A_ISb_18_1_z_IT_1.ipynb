{
 "cells": [
  {
   "cell_type": "markdown",
   "id": "65d141b8",
   "metadata": {},
   "source": [
    "# Programming on Python\n",
    "\n",
    "Student: Demidenko A. A., group IS/b-18-1-z\n",
    "\n",
    "\n",
    "## Zen of Python\n",
    "\n",
    "Developers of Python language hold on to certan phylosofy of programming named \"The Zen of Python\". It's text printed by Python interpreter with `import this` command (working only once per session).\n",
    "\n",
    "Overall, it's good enough for every programming language.\n",
    "\n",
    "- Beautiful is better than ugly.\n",
    "- Explicit is better than implicit.\n",
    "- Simple is better than complex.\n",
    "- Complex is better than complicated.\n",
    "- Flat is better than nested.\n",
    "- Sparse is better than dense.\n",
    "- Readability counts.\n",
    "- Special cases aren't special enough to break the rules.\n",
    "- Although practicality beats purity.\n",
    "- Errors should never pass silently.\n",
    "- Unless explicitly silenced.\n",
    "- In the face of ambiguity, refuse the temptation to guess.\n",
    "- There should be one-- and preferably only one --obvious way to do it.\n",
    "- Although that way may not be obvious at first unless you're Dutch.\n",
    "- Now is better than never.\n",
    "- Although never is often better than *right* now.\n",
    "- If the implementation is hard to explain, it's a bad idea.\n",
    "- If the implementation is easy to explain, it may be a good idea.\n",
    "- Namespaces are one honking great idea -- let's do more of those!"
   ]
  },
  {
   "cell_type": "code",
   "execution_count": 1,
   "id": "0be41b74",
   "metadata": {
    "scrolled": true
   },
   "outputs": [
    {
     "name": "stdout",
     "output_type": "stream",
     "text": [
      "The Zen of Python, by Tim Peters\n",
      "\n",
      "Beautiful is better than ugly.\n",
      "Explicit is better than implicit.\n",
      "Simple is better than complex.\n",
      "Complex is better than complicated.\n",
      "Flat is better than nested.\n",
      "Sparse is better than dense.\n",
      "Readability counts.\n",
      "Special cases aren't special enough to break the rules.\n",
      "Although practicality beats purity.\n",
      "Errors should never pass silently.\n",
      "Unless explicitly silenced.\n",
      "In the face of ambiguity, refuse the temptation to guess.\n",
      "There should be one-- and preferably only one --obvious way to do it.\n",
      "Although that way may not be obvious at first unless you're Dutch.\n",
      "Now is better than never.\n",
      "Although never is often better than *right* now.\n",
      "If the implementation is hard to explain, it's a bad idea.\n",
      "If the implementation is easy to explain, it may be a good idea.\n",
      "Namespaces are one honking great idea -- let's do more of those!\n"
     ]
    }
   ],
   "source": [
    "import this"
   ]
  },
  {
   "cell_type": "markdown",
   "id": "f5162cd2",
   "metadata": {},
   "source": [
    "## Python as calculator"
   ]
  },
  {
   "cell_type": "code",
   "execution_count": 2,
   "id": "95d63e1c",
   "metadata": {},
   "outputs": [
    {
     "data": {
      "text/plain": [
       "28"
      ]
     },
     "execution_count": 2,
     "metadata": {},
     "output_type": "execute_result"
    }
   ],
   "source": [
    "4 * 7 # multiplication"
   ]
  },
  {
   "cell_type": "code",
   "execution_count": 3,
   "id": "d5879f2c",
   "metadata": {},
   "outputs": [
    {
     "data": {
      "text/plain": [
       "21"
      ]
     },
     "execution_count": 3,
     "metadata": {},
     "output_type": "execute_result"
    }
   ],
   "source": [
    "3 * (2 + 5) # change priority of operations"
   ]
  },
  {
   "cell_type": "code",
   "execution_count": 4,
   "id": "a13f58b7",
   "metadata": {},
   "outputs": [
    {
     "data": {
      "text/plain": [
       "6"
      ]
     },
     "execution_count": 4,
     "metadata": {},
     "output_type": "execute_result"
    }
   ],
   "source": [
    "5^3 # bitwise xor"
   ]
  },
  {
   "cell_type": "code",
   "execution_count": 5,
   "id": "7c07e2dd",
   "metadata": {},
   "outputs": [
    {
     "data": {
      "text/plain": [
       "125"
      ]
     },
     "execution_count": 5,
     "metadata": {},
     "output_type": "execute_result"
    }
   ],
   "source": [
    "5**3 # power"
   ]
  },
  {
   "cell_type": "markdown",
   "id": "c9877406",
   "metadata": {},
   "source": [
    "With addition, multiplication and power everything might be clear. Division at first look doesn't foreshadow problems too:"
   ]
  },
  {
   "cell_type": "code",
   "execution_count": 6,
   "id": "04d993ea",
   "metadata": {},
   "outputs": [
    {
     "data": {
      "text/plain": [
       "4.0"
      ]
     },
     "execution_count": 6,
     "metadata": {},
     "output_type": "execute_result"
    }
   ],
   "source": [
    "12 / 3 # floating point division"
   ]
  },
  {
   "cell_type": "markdown",
   "id": "3e06bdf4",
   "metadata": {},
   "source": [
    "**Attention!** Python version 2 had another behavior: it always divide of the whole (drop a reminder). This caused a lot of problems when a developer was suspected division will be \"regular\" and in result had integer one. In Python version 3 division computes numbers with floating point; if you need integer divion, you can use double slash (`//`)."
   ]
  },
  {
   "cell_type": "code",
   "execution_count": 7,
   "id": "47cf16c7",
   "metadata": {},
   "outputs": [
    {
     "data": {
      "text/plain": [
       "1"
      ]
     },
     "execution_count": 7,
     "metadata": {},
     "output_type": "execute_result"
    }
   ],
   "source": [
    "3 // 2 # integer division"
   ]
  },
  {
   "cell_type": "markdown",
   "id": "f5c86cd4",
   "metadata": {},
   "source": [
    "What about other operations? Lets try to get square root:"
   ]
  },
  {
   "cell_type": "code",
   "execution_count": 8,
   "id": "dc02c5f7",
   "metadata": {},
   "outputs": [
    {
     "ename": "NameError",
     "evalue": "name 'sqrt' is not defined",
     "output_type": "error",
     "traceback": [
      "\u001b[0;31m---------------------------------------------------------------------------\u001b[0m",
      "\u001b[0;31mNameError\u001b[0m                                 Traceback (most recent call last)",
      "\u001b[0;32m<ipython-input-8-e90425245019>\u001b[0m in \u001b[0;36m<module>\u001b[0;34m\u001b[0m\n\u001b[0;32m----> 1\u001b[0;31m \u001b[0msqrt\u001b[0m\u001b[0;34m(\u001b[0m\u001b[0;36m4\u001b[0m\u001b[0;34m)\u001b[0m \u001b[0;31m# error\u001b[0m\u001b[0;34m\u001b[0m\u001b[0;34m\u001b[0m\u001b[0m\n\u001b[0m",
      "\u001b[0;31mNameError\u001b[0m: name 'sqrt' is not defined"
     ]
    }
   ],
   "source": [
    "sqrt(4) # error"
   ]
  },
  {
   "cell_type": "markdown",
   "id": "e6fc1722",
   "metadata": {},
   "source": [
    "Corresponding function defined in standard module `math`. To use it you have to import that module. You can do it in different ways."
   ]
  },
  {
   "cell_type": "code",
   "execution_count": 9,
   "id": "3084b490",
   "metadata": {},
   "outputs": [
    {
     "data": {
      "text/plain": [
       "2.0"
      ]
     },
     "execution_count": 9,
     "metadata": {},
     "output_type": "execute_result"
    }
   ],
   "source": [
    "import math\n",
    "math.sqrt(4) # now it's working"
   ]
  },
  {
   "cell_type": "markdown",
   "id": "c6275af0",
   "metadata": {},
   "source": [
    "After `math` module was imported you can learn another function it defines. To do that in IPython Notebook you can simply enter module name, type dot symbol and then press \"Tab\".\n",
    "\n",
    "Lets see at sinus:"
   ]
  },
  {
   "cell_type": "code",
   "execution_count": 11,
   "id": "454a6931",
   "metadata": {},
   "outputs": [
    {
     "data": {
      "text/plain": [
       "0.0"
      ]
     },
     "execution_count": 11,
     "metadata": {},
     "output_type": "execute_result"
    }
   ],
   "source": [
    "math.sin(0) # sinus function"
   ]
  },
  {
   "cell_type": "markdown",
   "id": "2d2cf17f",
   "metadata": {},
   "source": [
    "Provided syntax may seems uncomfortable if you need to use some math function quite often. To not type \"math\" word everytime you can import concrete function from module."
   ]
  },
  {
   "cell_type": "code",
   "execution_count": 12,
   "id": "dc4ac8bd",
   "metadata": {},
   "outputs": [],
   "source": [
    "from math import sqrt"
   ]
  },
  {
   "cell_type": "code",
   "execution_count": 14,
   "id": "5cc1a3e0",
   "metadata": {},
   "outputs": [
    {
     "data": {
      "text/plain": [
       "2.0"
      ]
     },
     "execution_count": 14,
     "metadata": {},
     "output_type": "execute_result"
    }
   ],
   "source": [
    "sqrt(4) # now you can omit module name"
   ]
  },
  {
   "cell_type": "markdown",
   "id": "464c38b3",
   "metadata": {},
   "source": [
    "## Real numbers and errors\n",
    "\n",
    "Real numbers in programming not so simple. For example, lets calculate sinus for π number:"
   ]
  },
  {
   "cell_type": "code",
   "execution_count": 17,
   "id": "f7aa68e1",
   "metadata": {},
   "outputs": [
    {
     "data": {
      "text/plain": [
       "1.2246467991473532e-16"
      ]
     },
     "execution_count": 17,
     "metadata": {},
     "output_type": "execute_result"
    }
   ],
   "source": [
    "from math import pi, sin\n",
    "sin(pi) # it's not zero"
   ]
  },
  {
   "cell_type": "markdown",
   "id": "492e7a2f",
   "metadata": {},
   "source": [
    "Can't understand this output? At first, this [computer scientific notation](https://en.wikipedia.org/wiki/Scientific_notation). It's convenient if you need to print very big or very small numbers: 1.2e2 means 1,2 * 10^2 (1200), and 2.4e-3 - is same with 2,4 * 10^(-3) = 0,0024.\n",
    "sin(π) result computed by Python have 10^(-16) order which is very small number close to zero. Why it's not \"real\" zero? All computations with real numbers makes by computer with limited precise, thats why instead of \"honest\" answers we often have such approximated ones. You have to be ready for that. "
   ]
  },
  {
   "cell_type": "markdown",
   "id": "a11866c9",
   "metadata": {},
   "source": [
    "## Variables"
   ]
  },
  {
   "cell_type": "code",
   "execution_count": 19,
   "id": "a1d2589b",
   "metadata": {},
   "outputs": [
    {
     "data": {
      "text/plain": [
       "4"
      ]
     },
     "execution_count": 19,
     "metadata": {},
     "output_type": "execute_result"
    }
   ],
   "source": [
    "x = 4 # this is a variable\n",
    "x"
   ]
  },
  {
   "cell_type": "markdown",
   "id": "6552f427",
   "metadata": {},
   "source": [
    "You have not define variables in Python in special way - just assign a value and you can use it!"
   ]
  },
  {
   "cell_type": "code",
   "execution_count": 20,
   "id": "aa1b2634",
   "metadata": {},
   "outputs": [
    {
     "data": {
      "text/plain": [
       "6"
      ]
     },
     "execution_count": 20,
     "metadata": {},
     "output_type": "execute_result"
    }
   ],
   "source": [
    "x + 2"
   ]
  },
  {
   "cell_type": "code",
   "execution_count": 22,
   "id": "b3a71486",
   "metadata": {},
   "outputs": [],
   "source": [
    "x = x + 2 # we can mutate variables"
   ]
  },
  {
   "cell_type": "code",
   "execution_count": 23,
   "id": "22c7efba",
   "metadata": {},
   "outputs": [
    {
     "data": {
      "text/plain": [
       "8"
      ]
     },
     "execution_count": 23,
     "metadata": {},
     "output_type": "execute_result"
    }
   ],
   "source": [
    "x"
   ]
  },
  {
   "cell_type": "markdown",
   "id": "21a785ed",
   "metadata": {},
   "source": [
    "Variables can store not only numbers but another data as well. For example, strings. We will touch it in next section."
   ]
  },
  {
   "cell_type": "markdown",
   "id": "83d19503",
   "metadata": {},
   "source": [
    "## Data input\n",
    "\n",
    "Working in Jupiter / IPython Notebook rearly needed to write code which asks to input data directly from keyboard, but in other apps (particulary, for home works) it can be required. Furthermore, writing interactive apps is quite funny mature. Lets write program which greets us by name."
   ]
  },
  {
   "cell_type": "code",
   "execution_count": 24,
   "id": "4c9d6d7e",
   "metadata": {},
   "outputs": [
    {
     "name": "stdout",
     "output_type": "stream",
     "text": [
      "Enter your name: test\n",
      "Hi,  test\n"
     ]
    }
   ],
   "source": [
    "name = input(\"Enter your name: \")\n",
    "print(\"Hi, \", name)"
   ]
  },
  {
   "cell_type": "code",
   "execution_count": 25,
   "id": "a4fdada4",
   "metadata": {},
   "outputs": [
    {
     "data": {
      "text/plain": [
       "'test'"
      ]
     },
     "execution_count": 25,
     "metadata": {},
     "output_type": "execute_result"
    }
   ],
   "source": [
    "name"
   ]
  },
  {
   "cell_type": "markdown",
   "id": "50a458f0",
   "metadata": {},
   "source": [
    "Lets try to write \"doubler\" program. It have to take number as input, double it and return the result."
   ]
  },
  {
   "cell_type": "code",
   "execution_count": 26,
   "id": "8153341c",
   "metadata": {},
   "outputs": [
    {
     "name": "stdout",
     "output_type": "stream",
     "text": [
      "Enter some number: 2\n",
      "22\n"
     ]
    }
   ],
   "source": [
    "x = input(\"Enter some number: \")\n",
    "print(x * 2) # isn't it strange?"
   ]
  },
  {
   "cell_type": "markdown",
   "id": "df3961ab",
   "metadata": {},
   "source": [
    "Something wrong here. Ofcourse in some sense computer did we asked it - there was one number 2 and now there are two numbers, but we wanted smth other. Why does it happen? The problem is that `input` always returns string (it doesn't know what we are going to enter - numbers or some another symbols; it doesn't understand we asked in request to \"enter some number\" - it's just another string. And now `x` variables doesn't store 2 number, it stores string '2' (pay attention to apostrophe)."
   ]
  },
  {
   "cell_type": "code",
   "execution_count": 27,
   "id": "491b9d0f",
   "metadata": {},
   "outputs": [
    {
     "data": {
      "text/plain": [
       "'2'"
      ]
     },
     "execution_count": 27,
     "metadata": {},
     "output_type": "execute_result"
    }
   ],
   "source": [
    "x"
   ]
  },
  {
   "cell_type": "markdown",
   "id": "b176329f",
   "metadata": {},
   "source": [
    "To work with it as with number you have to convert it from string to number type. For example we want to work only with integer numbers, then our type will be `int` (it comes from integer word)."
   ]
  },
  {
   "cell_type": "code",
   "execution_count": 28,
   "id": "5b54f8fd",
   "metadata": {},
   "outputs": [
    {
     "data": {
      "text/plain": [
       "2"
      ]
     },
     "execution_count": 28,
     "metadata": {},
     "output_type": "execute_result"
    }
   ],
   "source": [
    "int(x) # cast type to int"
   ]
  },
  {
   "cell_type": "markdown",
   "id": "59b18555",
   "metadata": {},
   "source": [
    "Now you can see there are no apostrophe - it's a number. Word int is both data type name (integer numbers) and a function, which converts argument you pass to it to int data type.\n",
    "\n",
    "Lets rewrite our doubler program:"
   ]
  },
  {
   "cell_type": "code",
   "execution_count": 29,
   "id": "5fc92fbf",
   "metadata": {},
   "outputs": [
    {
     "name": "stdout",
     "output_type": "stream",
     "text": [
      "Enter some number: 2\n",
      "4\n"
     ]
    }
   ],
   "source": [
    "x_str = input(\"Enter some number: \")\n",
    "x = int(x_str)\n",
    "print(x * 2)"
   ]
  },
  {
   "cell_type": "markdown",
   "id": "fc03d1cc",
   "metadata": {},
   "source": [
    "Another thing! Now `x_str` stores string we entered and `x` stores int conversion result. Next we double this number and print it to screen. Also, you can not to use separate variable (and save one line):"
   ]
  },
  {
   "cell_type": "code",
   "execution_count": 30,
   "id": "76cb304d",
   "metadata": {},
   "outputs": [
    {
     "name": "stdout",
     "output_type": "stream",
     "text": [
      "Enter some number: 2\n",
      "4\n"
     ]
    }
   ],
   "source": [
    "x = int(input(\"Enter some number: \"))\n",
    "print(x * 2)"
   ]
  },
  {
   "cell_type": "markdown",
   "id": "a1f214e1",
   "metadata": {},
   "source": [
    "I've tried to enter number 12.34 (not integer) and Python could not cast it to its int type (make from string '12.34' integer number) and printed an error. If we want to work with real number we'll have to use type `float`"
   ]
  },
  {
   "cell_type": "code",
   "execution_count": 32,
   "id": "98cbd764",
   "metadata": {},
   "outputs": [
    {
     "name": "stdout",
     "output_type": "stream",
     "text": [
      "Enter some number (not necessary integer): 12.34\n",
      "24.68\n"
     ]
    }
   ],
   "source": [
    "# cast to float\n",
    "x = float(input(\"Enter some number (not necessary integer): \"))\n",
    "print(x * 2)"
   ]
  },
  {
   "cell_type": "markdown",
   "id": "b982ff4f",
   "metadata": {},
   "source": [
    "It's working!\n",
    "\n",
    "Note: to convert number to string you can use `str` function. Every data type name called as function tries to convert its argument to corresponding data type."
   ]
  },
  {
   "cell_type": "markdown",
   "id": "315e632a",
   "metadata": {},
   "source": [
    "## Practic task: Fibonacci numbers\n",
    "\n",
    "Fibonacci numbers or Fibonacci sequence - is numbers sequence starting from two 1, where each next number is equal to sum of previous two. Formal we can define it as following:\n",
    "a(1) = 1;\n",
    "a(2) = 1;\n",
    "a(n+1) = a(n) + a(n-1) for all n > 2.\n",
    "For example, a(3) = 1 + 1 = 2, a(4) = 2 + 1 = 3.\n",
    "\n",
    "Task: count fifteens Fibonacci number."
   ]
  },
  {
   "cell_type": "code",
   "execution_count": 33,
   "id": "ce1d0f63",
   "metadata": {},
   "outputs": [],
   "source": [
    "a = 1 # first number\n",
    "b = 1 # second number\n",
    "i = 2 # index of number which stored in variable b (now it's a(2))"
   ]
  },
  {
   "cell_type": "markdown",
   "id": "5d4d3b96",
   "metadata": {},
   "source": [
    "We will store two last numbers because it defines next ones, and last found number index (variable `i`)."
   ]
  },
  {
   "cell_type": "code",
   "execution_count": 34,
   "id": "56f644d9",
   "metadata": {},
   "outputs": [
    {
     "name": "stdout",
     "output_type": "stream",
     "text": [
      "3 2\n"
     ]
    }
   ],
   "source": [
    "c = a + b # find next number\n",
    "i = i + 1 # increase i\n",
    "a = b # we do not need a value but still need b\n",
    "b = c # remember computed value\n",
    "print(i, b)"
   ]
  },
  {
   "cell_type": "markdown",
   "id": "69461fe7",
   "metadata": {},
   "source": [
    "Python executes commands consistently, line by line, so an order of comands is very important. Executing this cell multiple times you will get next Fibonacci number.\n",
    "\n",
    "**Control question** What will happen if we swap last two lines before `print`?\n",
    "**Answer** We will lose b value and then we'll recieve wrong result."
   ]
  },
  {
   "cell_type": "code",
   "execution_count": 36,
   "id": "15982a90",
   "metadata": {},
   "outputs": [
    {
     "name": "stdout",
     "output_type": "stream",
     "text": [
      "4 3\n"
     ]
    }
   ],
   "source": [
    "# Repeat this code once again\n",
    "\n",
    "c = a + b # find next number\n",
    "i = i + 1 # increase i\n",
    "a = b # we do not need a value but still need b\n",
    "b = c # remember computed value\n",
    "print(i, b)"
   ]
  },
  {
   "cell_type": "code",
   "execution_count": 37,
   "id": "7817679e",
   "metadata": {},
   "outputs": [
    {
     "name": "stdout",
     "output_type": "stream",
     "text": [
      "5 5\n"
     ]
    }
   ],
   "source": [
    "# And again\n",
    "\n",
    "c = a + b # find next number\n",
    "i = i + 1 # increase i\n",
    "a = b # we do not need a value but still need b\n",
    "b = c # remember computed value\n",
    "print(i, b)"
   ]
  },
  {
   "cell_type": "code",
   "execution_count": 38,
   "id": "f60ad7bf",
   "metadata": {},
   "outputs": [
    {
     "name": "stdout",
     "output_type": "stream",
     "text": [
      "6 8\n"
     ]
    }
   ],
   "source": [
    "# And again\n",
    "\n",
    "c = a + b # find next number\n",
    "i = i + 1 # increase i\n",
    "a = b # we do not need a value but still need b\n",
    "b = c # remember computed value\n",
    "print(i, b)"
   ]
  },
  {
   "cell_type": "markdown",
   "id": "eb100e33",
   "metadata": {},
   "source": [
    "**Advice**. You could do not copy this cell a lot of times and just run same one several times. It's easier to do it with `cmd + enter` hot keys. And ofcourse in practice we'll no execute same code many times by hands - cause we have *cycles*. But we'll me it in next lecture."
   ]
  }
 ],
 "metadata": {
  "kernelspec": {
   "display_name": "Python 3",
   "language": "python",
   "name": "python3"
  },
  "language_info": {
   "codemirror_mode": {
    "name": "ipython",
    "version": 3
   },
   "file_extension": ".py",
   "mimetype": "text/x-python",
   "name": "python",
   "nbconvert_exporter": "python",
   "pygments_lexer": "ipython3",
   "version": "3.9.5"
  }
 },
 "nbformat": 4,
 "nbformat_minor": 5
}
