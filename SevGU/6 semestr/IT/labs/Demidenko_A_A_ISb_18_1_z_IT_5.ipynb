{
 "cells": [
  {
   "cell_type": "markdown",
   "id": "3afd63dc",
   "metadata": {},
   "source": [
    "# Programming in a Python language for data collection and analysis\n",
    "\n",
    "Student: Demidenko A. A., group IS/b-18-1-z\n",
    "\n",
    "\n",
    "## Dictionaries\n",
    "\n",
    "Consider the following problem we have information about students grades in a certain subject and we want to be able to work with this information - for example, by the name of a student to determine what grade he received. We could try to solve this problem by creating two lists - one with the names of students and the other with grades:"
   ]
  },
  {
   "cell_type": "code",
   "execution_count": 2,
   "id": "8dd23820",
   "metadata": {},
   "outputs": [],
   "source": [
    "students = [\"Vassa\", \"Koal\", \"Peter\", \"Ann\"]\n",
    "grades = [5, 4, 2, 3]\n",
    "# Vassa got 5, Koal 4 and so on"
   ]
  },
  {
   "cell_type": "markdown",
   "id": "be81df2d",
   "metadata": {},
   "source": [
    "It would be nice if we could have a data type in which the elements are numbered not by natural numbers but by arbitrary objects. Such a data type exists in it is name is *dictionary*.\n",
    "\n",
    "This is how we can create a dictionary in Python:"
   ]
  },
  {
   "cell_type": "code",
   "execution_count": 3,
   "id": "5a77551d",
   "metadata": {},
   "outputs": [],
   "source": [
    "gradebook = {\"Vassa\": 5, \"Koal\": 4, \"Peter\":2, \"Ann\": 3}"
   ]
  },
  {
   "cell_type": "markdown",
   "id": "d2b8ed1f",
   "metadata": {},
   "source": [
    "This is similar to creating a list but there are a number of differences. First, we used curly brackets instead of square brackets to show that we are creating a dictionary. Second, the dictionary consists of *entries*, each entry consists of two parts: of a *key* and a *value*. Key and value are separated by a colon. For example we have an entry `\"Ann\": 3` with the key `\"Ann\"` and the value `3`. In total our `gradebook` dictionary now contains four entries, the keys of which are the names of students and the values is their grades."
   ]
  },
  {
   "cell_type": "code",
   "execution_count": 4,
   "id": "617ffe79",
   "metadata": {},
   "outputs": [
    {
     "data": {
      "text/plain": [
       "{'Vassa': 5, 'Koal': 4, 'Peter': 2, 'Ann': 3}"
      ]
     },
     "execution_count": 4,
     "metadata": {},
     "output_type": "execute_result"
    }
   ],
   "source": [
    "gradebook"
   ]
  },
  {
   "cell_type": "markdown",
   "id": "e98f9d55",
   "metadata": {},
   "source": [
    "Note that when printing reordered entries in the dictionary. In fact the order of output of entries in the dictionary is arbitrary inside the dictionary entries do not have any order. So we can not access, for example, the first entry but we can access the entry with it's key:"
   ]
  },
  {
   "cell_type": "code",
   "execution_count": 5,
   "id": "b649a1bb",
   "metadata": {},
   "outputs": [
    {
     "data": {
      "text/plain": [
       "3"
      ]
     },
     "execution_count": 5,
     "metadata": {},
     "output_type": "execute_result"
    }
   ],
   "source": [
    "gradebook['Ann']"
   ]
  },
  {
   "cell_type": "code",
   "execution_count": 6,
   "id": "d929745d",
   "metadata": {},
   "outputs": [
    {
     "data": {
      "text/plain": [
       "5"
      ]
     },
     "execution_count": 6,
     "metadata": {},
     "output_type": "execute_result"
    }
   ],
   "source": [
    "gradebook['Vassa']"
   ]
  },
  {
   "cell_type": "markdown",
   "id": "9ec97620",
   "metadata": {},
   "source": [
    "We can change the value of an entry in the same way that we can change a list item."
   ]
  },
  {
   "cell_type": "code",
   "execution_count": 7,
   "id": "a34df7df",
   "metadata": {},
   "outputs": [],
   "source": [
    "gradebook['Ann'] = 5"
   ]
  },
  {
   "cell_type": "code",
   "execution_count": 8,
   "id": "cfb09531",
   "metadata": {},
   "outputs": [
    {
     "data": {
      "text/plain": [
       "{'Vassa': 5, 'Koal': 4, 'Peter': 2, 'Ann': 5}"
      ]
     },
     "execution_count": 8,
     "metadata": {},
     "output_type": "execute_result"
    }
   ],
   "source": [
    "gradebook"
   ]
  },
  {
   "cell_type": "markdown",
   "id": "de8556ad",
   "metadata": {},
   "source": [
    "We can add a new record:"
   ]
  },
  {
   "cell_type": "code",
   "execution_count": 9,
   "id": "7bdbaa32",
   "metadata": {},
   "outputs": [],
   "source": [
    "gradebook['Kesha'] = 4"
   ]
  },
  {
   "cell_type": "code",
   "execution_count": 10,
   "id": "f921f0e5",
   "metadata": {},
   "outputs": [
    {
     "data": {
      "text/plain": [
       "{'Vassa': 5, 'Koal': 4, 'Peter': 2, 'Ann': 5, 'Kesha': 4}"
      ]
     },
     "execution_count": 10,
     "metadata": {},
     "output_type": "execute_result"
    }
   ],
   "source": [
    "gradebook"
   ]
  },
  {
   "cell_type": "markdown",
   "id": "40eb6488",
   "metadata": {},
   "source": [
    "If we try to access a record that doesn't exist, we will get an error:"
   ]
  },
  {
   "cell_type": "code",
   "execution_count": 11,
   "id": "6d00dbaf",
   "metadata": {},
   "outputs": [
    {
     "ename": "KeyError",
     "evalue": "'Alice'",
     "output_type": "error",
     "traceback": [
      "\u001b[0;31m---------------------------------------------------------------------------\u001b[0m",
      "\u001b[0;31mKeyError\u001b[0m                                  Traceback (most recent call last)",
      "\u001b[0;32m<ipython-input-11-067ef0c240f9>\u001b[0m in \u001b[0;36m<module>\u001b[0;34m\u001b[0m\n\u001b[0;32m----> 1\u001b[0;31m \u001b[0mgradebook\u001b[0m\u001b[0;34m[\u001b[0m\u001b[0;34m'Alice'\u001b[0m\u001b[0;34m]\u001b[0m\u001b[0;34m\u001b[0m\u001b[0;34m\u001b[0m\u001b[0m\n\u001b[0m",
      "\u001b[0;31mKeyError\u001b[0m: 'Alice'"
     ]
    }
   ],
   "source": [
    "gradebook['Alice']"
   ]
  },
  {
   "cell_type": "markdown",
   "id": "49f88752",
   "metadata": {},
   "source": [
    "Often we want to be able to request a record and if it is not there to get some default value and not an error. For this we need to use `get()` method instead of square brackets:"
   ]
  },
  {
   "cell_type": "code",
   "execution_count": 12,
   "id": "dd22ea7a",
   "metadata": {},
   "outputs": [],
   "source": [
    "gradebook.get('Alice')"
   ]
  },
  {
   "cell_type": "markdown",
   "id": "c5781358",
   "metadata": {},
   "source": [
    "Here returned `None`:"
   ]
  },
  {
   "cell_type": "code",
   "execution_count": 13,
   "id": "8179acb8",
   "metadata": {},
   "outputs": [
    {
     "name": "stdout",
     "output_type": "stream",
     "text": [
      "None\n"
     ]
    }
   ],
   "source": [
    "print(gradebook.get('Alice'))"
   ]
  },
  {
   "cell_type": "code",
   "execution_count": 14,
   "id": "9a2749a5",
   "metadata": {},
   "outputs": [
    {
     "data": {
      "text/plain": [
       "5"
      ]
     },
     "execution_count": 14,
     "metadata": {},
     "output_type": "execute_result"
    }
   ],
   "source": [
    "gradebook.get('Vassa')"
   ]
  },
  {
   "cell_type": "markdown",
   "id": "6cbf0164",
   "metadata": {},
   "source": [
    "We could pass a second argument to `get()`, and then if there is no such key in the dictionary, it will be returned:"
   ]
  },
  {
   "cell_type": "code",
   "execution_count": 15,
   "id": "da222f02",
   "metadata": {},
   "outputs": [
    {
     "data": {
      "text/plain": [
       "'No such student'"
      ]
     },
     "execution_count": 15,
     "metadata": {},
     "output_type": "execute_result"
    }
   ],
   "source": [
    "gradebook.get('Alice', 'No such student')"
   ]
  },
  {
   "cell_type": "code",
   "execution_count": 16,
   "id": "55a88be9",
   "metadata": {},
   "outputs": [
    {
     "data": {
      "text/plain": [
       "5"
      ]
     },
     "execution_count": 16,
     "metadata": {},
     "output_type": "execute_result"
    }
   ],
   "source": [
    "gradebook.get('Vassa',  'No such student')"
   ]
  },
  {
   "cell_type": "markdown",
   "id": "a257c04e",
   "metadata": {},
   "source": [
    "We can get a list of all the dictionary keys:"
   ]
  },
  {
   "cell_type": "code",
   "execution_count": 17,
   "id": "58ca6ec9",
   "metadata": {},
   "outputs": [
    {
     "data": {
      "text/plain": [
       "dict_keys(['Vassa', 'Koal', 'Peter', 'Ann', 'Kesha'])"
      ]
     },
     "execution_count": 17,
     "metadata": {},
     "output_type": "execute_result"
    }
   ],
   "source": [
    "gradebook.keys()"
   ]
  },
  {
   "cell_type": "markdown",
   "id": "ee88a41e",
   "metadata": {},
   "source": [
    "It's not really a list but this thing behaves almost like a list and we can make a list out of it. In a similar way to we can get a list of all dictionary values:"
   ]
  },
  {
   "cell_type": "code",
   "execution_count": 18,
   "id": "d8688b7f",
   "metadata": {},
   "outputs": [
    {
     "data": {
      "text/plain": [
       "dict_values([5, 4, 2, 5, 4])"
      ]
     },
     "execution_count": 18,
     "metadata": {},
     "output_type": "execute_result"
    }
   ],
   "source": [
    "gradebook.values()"
   ]
  },
  {
   "cell_type": "markdown",
   "id": "9003eb3c",
   "metadata": {},
   "source": [
    "The keys of dictionaries can be not only strings. Let's say we want to create a dictionary in which the keys are numbers. There is nothing easier than this:"
   ]
  },
  {
   "cell_type": "code",
   "execution_count": 19,
   "id": "6fee6026",
   "metadata": {},
   "outputs": [],
   "source": [
    "squares = { 1: 1, 2: 4, 3: 9 }"
   ]
  },
  {
   "cell_type": "code",
   "execution_count": 20,
   "id": "a0e79df1",
   "metadata": {},
   "outputs": [
    {
     "data": {
      "text/plain": [
       "{1: 1, 2: 4, 3: 9}"
      ]
     },
     "execution_count": 20,
     "metadata": {},
     "output_type": "execute_result"
    }
   ],
   "source": [
    "squares"
   ]
  },
  {
   "cell_type": "code",
   "execution_count": 21,
   "id": "be2da7be",
   "metadata": {},
   "outputs": [
    {
     "data": {
      "text/plain": [
       "1"
      ]
     },
     "execution_count": 21,
     "metadata": {},
     "output_type": "execute_result"
    }
   ],
   "source": [
    "squares[1]"
   ]
  },
  {
   "cell_type": "code",
   "execution_count": 22,
   "id": "0a79333f",
   "metadata": {},
   "outputs": [
    {
     "data": {
      "text/plain": [
       "4"
      ]
     },
     "execution_count": 22,
     "metadata": {},
     "output_type": "execute_result"
    }
   ],
   "source": [
    "squares[2]"
   ]
  },
  {
   "cell_type": "markdown",
   "id": "3989f2c3",
   "metadata": {},
   "source": [
    "In the previous two lines squares behaves roughly like a list, but if we look closely we can see that this is not a list but still a dictionary."
   ]
  },
  {
   "cell_type": "code",
   "execution_count": 23,
   "id": "ec7e0406",
   "metadata": {},
   "outputs": [
    {
     "data": {
      "text/plain": [
       "{1: 1, 2: 4, 3: 9}"
      ]
     },
     "execution_count": 23,
     "metadata": {},
     "output_type": "execute_result"
    }
   ],
   "source": [
    "squares"
   ]
  },
  {
   "cell_type": "markdown",
   "id": "cf747176",
   "metadata": {},
   "source": [
    "For example any non empty list has an element with an index 0, but squares does not:"
   ]
  },
  {
   "cell_type": "code",
   "execution_count": 24,
   "id": "59d21228",
   "metadata": {},
   "outputs": [
    {
     "ename": "KeyError",
     "evalue": "0",
     "output_type": "error",
     "traceback": [
      "\u001b[0;31m---------------------------------------------------------------------------\u001b[0m",
      "\u001b[0;31mKeyError\u001b[0m                                  Traceback (most recent call last)",
      "\u001b[0;32m<ipython-input-24-6b453444c824>\u001b[0m in \u001b[0;36m<module>\u001b[0;34m\u001b[0m\n\u001b[0;32m----> 1\u001b[0;31m \u001b[0msquares\u001b[0m\u001b[0;34m[\u001b[0m\u001b[0;36m0\u001b[0m\u001b[0;34m]\u001b[0m\u001b[0;34m\u001b[0m\u001b[0;34m\u001b[0m\u001b[0m\n\u001b[0m",
      "\u001b[0;31mKeyError\u001b[0m: 0"
     ]
    }
   ],
   "source": [
    "squares[0]"
   ]
  },
  {
   "cell_type": "markdown",
   "id": "a5c47b21",
   "metadata": {},
   "source": [
    "## Iterating through entries in the dictionary\n",
    "\n",
    "How to process information in the dictionary? To iterate through all the elements of the list we can use the `for` loop. And what happens if we feed it a dictionary instead of a list? Let's try:"
   ]
  },
  {
   "cell_type": "code",
   "execution_count": 25,
   "id": "1a2d24da",
   "metadata": {},
   "outputs": [
    {
     "name": "stdout",
     "output_type": "stream",
     "text": [
      "Vassa\n",
      "Koal\n",
      "Peter\n",
      "Ann\n",
      "Kesha\n"
     ]
    }
   ],
   "source": [
    "for k in gradebook: \n",
    "    print(k)"
   ]
  },
  {
   "cell_type": "markdown",
   "id": "fc8b463c",
   "metadata": {},
   "source": [
    "It is clear! The `for` loop in this case iterates through all the *keys* of our dictionary. And knowing the key we can get the value:"
   ]
  },
  {
   "cell_type": "code",
   "execution_count": 27,
   "id": "ce64e918",
   "metadata": {},
   "outputs": [
    {
     "name": "stdout",
     "output_type": "stream",
     "text": [
      "Student Vassa has grade 5\n",
      "Student Koal has grade 4\n",
      "Student Peter has grade 2\n",
      "Student Ann has grade 5\n",
      "Student Kesha has grade 4\n"
     ]
    }
   ],
   "source": [
    "for k in gradebook:\n",
    "    print(\"Student\", k, \"has grade\", gradebook[k])"
   ]
  },
  {
   "cell_type": "markdown",
   "id": "c578b91b",
   "metadata": {},
   "source": [
    "However, there is a more elegant way to get the key and value of the next record at once using `items()`:"
   ]
  },
  {
   "cell_type": "code",
   "execution_count": 28,
   "id": "7f5bc54d",
   "metadata": {},
   "outputs": [
    {
     "name": "stdout",
     "output_type": "stream",
     "text": [
      "Student Vassa has grade 5\n",
      "Student Koal has grade 4\n",
      "Student Peter has grade 2\n",
      "Student Ann has grade 5\n",
      "Student Kesha has grade 4\n"
     ]
    }
   ],
   "source": [
    "for k, v in gradebook.items(): \n",
    "    print(\"Student\", k, \"has grade\", v)"
   ]
  },
  {
   "cell_type": "markdown",
   "id": "d8595def",
   "metadata": {},
   "source": [
    "How this code works? Here we use `items()` method that returns a list (iterator) consisting of tuples of the form (key, value):"
   ]
  },
  {
   "cell_type": "code",
   "execution_count": 29,
   "id": "9394efdd",
   "metadata": {},
   "outputs": [
    {
     "data": {
      "text/plain": [
       "[('Vassa', 5), ('Koal', 4), ('Peter', 2), ('Ann', 5), ('Kesha', 4)]"
      ]
     },
     "execution_count": 29,
     "metadata": {},
     "output_type": "execute_result"
    }
   ],
   "source": [
    "list(gradebook.items())"
   ]
  },
  {
   "cell_type": "markdown",
   "id": "a49ae633",
   "metadata": {},
   "source": [
    "The `for` operator in this case understands that it is necessary to select another tuple each time the loop passes and assign its first element (key) of the variable `k` and the second element (value) of the variable `v` (of course these variables could be called differently). With similar behavior we have already met when discussing the `enumerate` construction.\n",
    "\n",
    "This is how we can find all entries with a given value - for example all students who received a grade 4:"
   ]
  },
  {
   "cell_type": "code",
   "execution_count": 30,
   "id": "6510d64e",
   "metadata": {},
   "outputs": [
    {
     "name": "stdout",
     "output_type": "stream",
     "text": [
      "Koal\n",
      "Kesha\n"
     ]
    }
   ],
   "source": [
    "for k, v in gradebook.items(): \n",
    "    if v == 4:\n",
    "        print(k)"
   ]
  },
  {
   "cell_type": "markdown",
   "id": "f8bb2c85",
   "metadata": {},
   "source": [
    "Note that such a \"search by value\" requires searching through all entries in the dictionary and if the dictionary is large it will take a long time although the \"search by key\" will still be performed quickly. By the way we can quickly check whether there is an entry in the dictionary with this key:"
   ]
  },
  {
   "cell_type": "code",
   "execution_count": 31,
   "id": "1c6e5e9b",
   "metadata": {},
   "outputs": [
    {
     "data": {
      "text/plain": [
       "True"
      ]
     },
     "execution_count": 31,
     "metadata": {},
     "output_type": "execute_result"
    }
   ],
   "source": [
    "\"Koal\" in gradebook"
   ]
  },
  {
   "cell_type": "code",
   "execution_count": 32,
   "id": "5f5b7ea2",
   "metadata": {},
   "outputs": [
    {
     "data": {
      "text/plain": [
       "False"
      ]
     },
     "execution_count": 32,
     "metadata": {},
     "output_type": "execute_result"
    }
   ],
   "source": [
    "\"Alice\" in gradebook"
   ]
  },
  {
   "cell_type": "markdown",
   "id": "29f3dff5",
   "metadata": {},
   "source": [
    "If we wanted to search among the values we would have to explicitly specify this using the method `values()`:"
   ]
  },
  {
   "cell_type": "code",
   "execution_count": 33,
   "id": "3054595a",
   "metadata": {},
   "outputs": [
    {
     "data": {
      "text/plain": [
       "False"
      ]
     },
     "execution_count": 33,
     "metadata": {},
     "output_type": "execute_result"
    }
   ],
   "source": [
    "1 in gradebook.values()"
   ]
  },
  {
   "cell_type": "code",
   "execution_count": 34,
   "id": "79041312",
   "metadata": {},
   "outputs": [
    {
     "data": {
      "text/plain": [
       "True"
      ]
     },
     "execution_count": 34,
     "metadata": {},
     "output_type": "execute_result"
    }
   ],
   "source": [
    "4 in gradebook.values()"
   ]
  },
  {
   "cell_type": "markdown",
   "id": "27e7c9ff",
   "metadata": {},
   "source": [
    "In general the `in` operator is not only limited to use with dictionaries it can be used for example with lists:"
   ]
  },
  {
   "cell_type": "code",
   "execution_count": 35,
   "id": "21f02211",
   "metadata": {},
   "outputs": [
    {
     "data": {
      "text/plain": [
       "True"
      ]
     },
     "execution_count": 35,
     "metadata": {},
     "output_type": "execute_result"
    }
   ],
   "source": [
    "5 in [1, 2, 3, 5, 8]"
   ]
  },
  {
   "cell_type": "code",
   "execution_count": 36,
   "id": "8e4df7ab",
   "metadata": {},
   "outputs": [
    {
     "data": {
      "text/plain": [
       "False"
      ]
     },
     "execution_count": 36,
     "metadata": {},
     "output_type": "execute_result"
    }
   ],
   "source": [
    "6 in range(1, 5)"
   ]
  },
  {
   "cell_type": "markdown",
   "id": "44e11d9a",
   "metadata": {},
   "source": [
    "## Creating dictionaries and the zip() function\n",
    "\n",
    "There are different ways to create dictionaries. For example we can create an empty dictionary and gradually fill it with elements:"
   ]
  },
  {
   "cell_type": "code",
   "execution_count": 37,
   "id": "214724ca",
   "metadata": {},
   "outputs": [],
   "source": [
    "my_dict = {}"
   ]
  },
  {
   "cell_type": "code",
   "execution_count": 38,
   "id": "89c35e18",
   "metadata": {},
   "outputs": [],
   "source": [
    "my_dict[1] = 1\n",
    "my_dict['hello'] = 'world'"
   ]
  },
  {
   "cell_type": "code",
   "execution_count": 39,
   "id": "ad05aa69",
   "metadata": {},
   "outputs": [
    {
     "data": {
      "text/plain": [
       "{1: 1, 'hello': 'world'}"
      ]
     },
     "execution_count": 39,
     "metadata": {},
     "output_type": "execute_result"
    }
   ],
   "source": [
    "my_dict"
   ]
  },
  {
   "cell_type": "markdown",
   "id": "9b0ef4f8",
   "metadata": {},
   "source": [
    "Note that the same dictionary perfectly combines elements of different types (in this case strings and integers).\n",
    "\n",
    "We can create a dictionary otherwise by passing the `dict()` function a list consisting of key-value pairs (in some sencs this is reversed operation to `items()` method):"
   ]
  },
  {
   "cell_type": "code",
   "execution_count": 40,
   "id": "34c00ed6",
   "metadata": {},
   "outputs": [
    {
     "data": {
      "text/plain": [
       "{'hello': 'world', 'one': 'two'}"
      ]
     },
     "execution_count": 40,
     "metadata": {},
     "output_type": "execute_result"
    }
   ],
   "source": [
    "dict([('hello', 'world'), ('one', 'two')])"
   ]
  },
  {
   "cell_type": "markdown",
   "id": "dab64725",
   "metadata": {},
   "source": [
    "Let's say we have two lists one contains the names of students and the other their grades. How can we create a dictionary from these lists for which the names would be keys and the grades would be values?\n",
    "\n",
    "And here it is:"
   ]
  },
  {
   "cell_type": "code",
   "execution_count": 41,
   "id": "ae25abcb",
   "metadata": {},
   "outputs": [
    {
     "data": {
      "text/plain": [
       "[('Vasa', 5), ('Koal', 4), ('Peter', 2), ('Ann', 3)]"
      ]
     },
     "execution_count": 41,
     "metadata": {},
     "output_type": "execute_result"
    }
   ],
   "source": [
    "students = [\"Vasa\", \"Koal\", \"Peter\", \"Ann\"]\n",
    "grades = [5, 4, 2, 3]\n",
    "new_gradebook = list(zip(students,grades))\n",
    "new_gradebook"
   ]
  },
  {
   "cell_type": "markdown",
   "id": "345d7c67",
   "metadata": {},
   "source": [
    "It uses a convenient function `zip()` the use of which is not limited to the creation of dictionaries. Like a zipper it fastens hence the name of several lists. For example `zip()` makes a list of pairs from a pair of lists:"
   ]
  },
  {
   "cell_type": "code",
   "execution_count": 42,
   "id": "f74fe593",
   "metadata": {},
   "outputs": [
    {
     "data": {
      "text/plain": [
       "[(1, 'a'), (2, 'b'), (3, 'c')]"
      ]
     },
     "execution_count": 42,
     "metadata": {},
     "output_type": "execute_result"
    }
   ],
   "source": [
    "list(zip([1,2,3],['a','b','c']))"
   ]
  },
  {
   "cell_type": "markdown",
   "id": "dfb46b3a",
   "metadata": {},
   "source": [
    "This construction can be used when we need to iterate through the elements of two related lists. For example, this is how we can output information about which student has what grade without using dictionaries:"
   ]
  },
  {
   "cell_type": "code",
   "execution_count": 43,
   "id": "6ef33bfa",
   "metadata": {},
   "outputs": [
    {
     "name": "stdout",
     "output_type": "stream",
     "text": [
      "Vasa has grade 5\n",
      "Koal has grade 4\n",
      "Peter has grade 2\n",
      "Ann has grade 3\n"
     ]
    }
   ],
   "source": [
    " for student, grade in zip(students, grades): \n",
    "    print(student, \"has grade\", grade)"
   ]
  },
  {
   "cell_type": "markdown",
   "id": "3ea27166",
   "metadata": {},
   "source": [
    "The `zip()` function can also be used with more than two lists:"
   ]
  },
  {
   "cell_type": "code",
   "execution_count": 44,
   "id": "056c9889",
   "metadata": {},
   "outputs": [
    {
     "data": {
      "text/plain": [
       "[(1, 5, 'a'), (2, 6, 'b'), (3, 7, 'c'), (4, 8, 'd')]"
      ]
     },
     "execution_count": 44,
     "metadata": {},
     "output_type": "execute_result"
    }
   ],
   "source": [
    "list(zip([1, 2, 3, 4], [5, 6, 7, 8], ['a', 'b', 'c', 'd']))\n",
    "# there are three lists, thats why we'll get list of tripples"
   ]
  },
  {
   "cell_type": "markdown",
   "id": "9bdbc985",
   "metadata": {},
   "source": [
    "If one of the lists is shorter, `zip()` will trim the rest of the lists."
   ]
  },
  {
   "cell_type": "code",
   "execution_count": 45,
   "id": "cdebdc44",
   "metadata": {},
   "outputs": [
    {
     "data": {
      "text/plain": [
       "[(1, 'a'), (2, 'b')]"
      ]
     },
     "execution_count": 45,
     "metadata": {},
     "output_type": "execute_result"
    }
   ],
   "source": [
    "list(zip([1, 2, 3], ['a', 'b']))"
   ]
  },
  {
   "cell_type": "markdown",
   "id": "a66c438e",
   "metadata": {},
   "source": [
    "## Which objects can be dictionary keys\n",
    "\n",
    "So far, we have considered dictionaries whose keys are strings and numbers. In fact, the keys can also be more complex objects. For example, imagine such an implementation of a fragment of the addition table in the form of a dictionary:"
   ]
  },
  {
   "cell_type": "code",
   "execution_count": 46,
   "id": "c508e2a2",
   "metadata": {},
   "outputs": [],
   "source": [
    "sums = {(2, 3): 5, (4, 1): 5, (5, 7): 12}"
   ]
  },
  {
   "cell_type": "code",
   "execution_count": 47,
   "id": "b2de58c3",
   "metadata": {},
   "outputs": [
    {
     "data": {
      "text/plain": [
       "{(2, 3): 5, (4, 1): 5, (5, 7): 12}"
      ]
     },
     "execution_count": 47,
     "metadata": {},
     "output_type": "execute_result"
    }
   ],
   "source": [
    "sums"
   ]
  },
  {
   "cell_type": "markdown",
   "id": "55cbab2b",
   "metadata": {},
   "source": [
    "Here keys is a tuples which consists of two numbers and values - it's sums:"
   ]
  },
  {
   "cell_type": "code",
   "execution_count": 48,
   "id": "84515e54",
   "metadata": {},
   "outputs": [
    {
     "data": {
      "text/plain": [
       "5"
      ]
     },
     "execution_count": 48,
     "metadata": {},
     "output_type": "execute_result"
    }
   ],
   "source": [
    "sums[(2, 3)]"
   ]
  },
  {
   "cell_type": "code",
   "execution_count": 49,
   "id": "b256675c",
   "metadata": {},
   "outputs": [
    {
     "data": {
      "text/plain": [
       "5"
      ]
     },
     "execution_count": 49,
     "metadata": {},
     "output_type": "execute_result"
    }
   ],
   "source": [
    "sums[(4, 1)]"
   ]
  },
  {
   "cell_type": "code",
   "execution_count": 50,
   "id": "89ccd028",
   "metadata": {},
   "outputs": [
    {
     "data": {
      "text/plain": [
       "12"
      ]
     },
     "execution_count": 50,
     "metadata": {},
     "output_type": "execute_result"
    }
   ],
   "source": [
    "sums[(5, 7)]"
   ]
  },
  {
   "cell_type": "markdown",
   "id": "51a6dfbc",
   "metadata": {},
   "source": [
    "Here is an important difference between tuples and lists: the latter cannot be dictionary keys because they can change:"
   ]
  },
  {
   "cell_type": "code",
   "execution_count": 51,
   "id": "75215a9e",
   "metadata": {},
   "outputs": [
    {
     "ename": "TypeError",
     "evalue": "unhashable type: 'list'",
     "output_type": "error",
     "traceback": [
      "\u001b[0;31m---------------------------------------------------------------------------\u001b[0m",
      "\u001b[0;31mTypeError\u001b[0m                                 Traceback (most recent call last)",
      "\u001b[0;32m<ipython-input-51-ce7a5b578f26>\u001b[0m in \u001b[0;36m<module>\u001b[0;34m\u001b[0m\n\u001b[0;32m----> 1\u001b[0;31m \u001b[0msums\u001b[0m \u001b[0;34m=\u001b[0m \u001b[0;34m{\u001b[0m \u001b[0;34m[\u001b[0m\u001b[0;36m1\u001b[0m\u001b[0;34m,\u001b[0m\u001b[0;36m2\u001b[0m\u001b[0;34m]\u001b[0m\u001b[0;34m:\u001b[0m \u001b[0;36m3\u001b[0m\u001b[0;34m}\u001b[0m\u001b[0;34m\u001b[0m\u001b[0;34m\u001b[0m\u001b[0m\n\u001b[0m",
      "\u001b[0;31mTypeError\u001b[0m: unhashable type: 'list'"
     ]
    }
   ],
   "source": [
    "sums = { [1,2]: 3 } # error"
   ]
  },
  {
   "cell_type": "markdown",
   "id": "d04fe096",
   "metadata": {},
   "source": [
    "This concludes our brief introduction to dictionaries and moves on to the next topic.\n",
    "\n",
    "## List comprehensions\n",
    "\n",
    "We have previously often encountered such a problem: given a list in which numbers are written but in the form of strings. To create a new list in which the numbers would be numbers, we could solve this problem using a loop:"
   ]
  },
  {
   "cell_type": "code",
   "execution_count": 52,
   "id": "f0b8f7a6",
   "metadata": {},
   "outputs": [
    {
     "name": "stdout",
     "output_type": "stream",
     "text": [
      "[1, 5, 12, 7]\n"
     ]
    }
   ],
   "source": [
    "str_list = [\"1\", \"5\", \"12\", \"7\"]\n",
    "\n",
    "int_list = []\n",
    "for s in str_list:\n",
    "    int_list.append(int(s))\n",
    "    \n",
    "print(int_list)"
   ]
  },
  {
   "cell_type": "markdown",
   "id": "580fc9e5",
   "metadata": {},
   "source": [
    "Three lines are responsible for creating a new list. Writing them every time is quite boring and the creators came up with (or rather borrowed from functional programming languages and those borrowed from mathematicians) a much more elegant syntax. It works like this:"
   ]
  },
  {
   "cell_type": "code",
   "execution_count": 53,
   "id": "6046129f",
   "metadata": {},
   "outputs": [],
   "source": [
    "int_list = [int(s) for s in str_list]"
   ]
  },
  {
   "cell_type": "markdown",
   "id": "7db018ed",
   "metadata": {},
   "source": [
    "The square brackets around the expression should suggest that we are creating a list (because when we need to create a list we usually enclose its elements in square brackets). The expression inside the brackets should be read literally:\n",
    "\n",
    "*a list consisting of `int(s)` elements `for` `s` elements from the `in` list `str_list`*"
   ]
  },
  {
   "cell_type": "code",
   "execution_count": 54,
   "id": "23e15567",
   "metadata": {},
   "outputs": [
    {
     "data": {
      "text/plain": [
       "[1, 5, 12, 7]"
      ]
     },
     "execution_count": 54,
     "metadata": {},
     "output_type": "execute_result"
    }
   ],
   "source": [
    "int_list"
   ]
  },
  {
   "cell_type": "markdown",
   "id": "2575a82e",
   "metadata": {},
   "source": [
    "See? The quotation marks have disappeared – in front of us a list consisting of numbers. Magic! The original list `str_list` has not changed:"
   ]
  },
  {
   "cell_type": "code",
   "execution_count": 55,
   "id": "64a55692",
   "metadata": {},
   "outputs": [
    {
     "data": {
      "text/plain": [
       "['1', '5', '12', '7']"
      ]
     },
     "execution_count": 55,
     "metadata": {},
     "output_type": "execute_result"
    }
   ],
   "source": [
    "str_list"
   ]
  },
  {
   "cell_type": "markdown",
   "id": "ae8b3661",
   "metadata": {},
   "source": [
    "Similarly we can apply any operation to the list elements. For example, we will square all the elements from `int_list`:"
   ]
  },
  {
   "cell_type": "code",
   "execution_count": 56,
   "id": "7e127d51",
   "metadata": {},
   "outputs": [
    {
     "data": {
      "text/plain": [
       "[1, 25, 144, 49]"
      ]
     },
     "execution_count": 56,
     "metadata": {},
     "output_type": "execute_result"
    }
   ],
   "source": [
    "[x**2 for x in int_list]"
   ]
  },
  {
   "cell_type": "markdown",
   "id": "72cb5aab",
   "metadata": {},
   "source": [
    "or double all the list items:"
   ]
  },
  {
   "cell_type": "code",
   "execution_count": 58,
   "id": "3fd102d2",
   "metadata": {},
   "outputs": [],
   "source": [
    "double_list = [x * 2 for x in int_list]"
   ]
  },
  {
   "cell_type": "code",
   "execution_count": 59,
   "id": "ac3478bc",
   "metadata": {},
   "outputs": [
    {
     "data": {
      "text/plain": [
       "[2, 10, 24, 14]"
      ]
     },
     "execution_count": 59,
     "metadata": {},
     "output_type": "execute_result"
    }
   ],
   "source": [
    "double_list"
   ]
  },
  {
   "cell_type": "markdown",
   "id": "d7a4aa28",
   "metadata": {},
   "source": [
    "or add 1 to them:"
   ]
  },
  {
   "cell_type": "code",
   "execution_count": 60,
   "id": "d17c21d4",
   "metadata": {},
   "outputs": [
    {
     "data": {
      "text/plain": [
       "[2, 6, 13, 8]"
      ]
     },
     "execution_count": 60,
     "metadata": {},
     "output_type": "execute_result"
    }
   ],
   "source": [
    "[x + 1 for x in int_list]"
   ]
  },
  {
   "cell_type": "markdown",
   "id": "e689abc4",
   "metadata": {},
   "source": [
    "or turn them into floating point numbers:"
   ]
  },
  {
   "cell_type": "code",
   "execution_count": 61,
   "id": "1c987ffa",
   "metadata": {},
   "outputs": [
    {
     "data": {
      "text/plain": [
       "[1.0, 5.0, 12.0, 7.0]"
      ]
     },
     "execution_count": 61,
     "metadata": {},
     "output_type": "execute_result"
    }
   ],
   "source": [
    "[float(x) for x in int_list]"
   ]
  },
  {
   "cell_type": "markdown",
   "id": "02212fff",
   "metadata": {},
   "source": [
    "As we can see we can do anything with list items. But that's not all. In the syntax of list comprehension we can filter. For example we only need those items that are larger than 6. We can select them this way:"
   ]
  },
  {
   "cell_type": "code",
   "execution_count": 62,
   "id": "4fc08bdf",
   "metadata": {},
   "outputs": [
    {
     "data": {
      "text/plain": [
       "[12, 7]"
      ]
     },
     "execution_count": 62,
     "metadata": {},
     "output_type": "execute_result"
    }
   ],
   "source": [
    "[x for x in int_list if x > 6]"
   ]
  },
  {
   "cell_type": "markdown",
   "id": "797ea9c9",
   "metadata": {},
   "source": [
    "When we write here `x for x` we mean that you just need to substitute the elements of the old one into the new list without doing anything with them just selecting the necessary ones. But we can also modify them somehow:"
   ]
  },
  {
   "cell_type": "code",
   "execution_count": 63,
   "id": "4c934203",
   "metadata": {},
   "outputs": [
    {
     "data": {
      "text/plain": [
       "[144, 49]"
      ]
     },
     "execution_count": 63,
     "metadata": {},
     "output_type": "execute_result"
    }
   ],
   "source": [
    "[x**2 for x in int_list if x > 6]"
   ]
  },
  {
   "cell_type": "markdown",
   "id": "c5b9d895",
   "metadata": {},
   "source": [
    "Now let's solve this problem there are two lists with numbers and we want to find their element sum:"
   ]
  },
  {
   "cell_type": "code",
   "execution_count": 64,
   "id": "2873ed95",
   "metadata": {},
   "outputs": [],
   "source": [
    "X = [2, 5, 8]\n",
    "Y = [1, 3, 100]"
   ]
  },
  {
   "cell_type": "markdown",
   "id": "d142052c",
   "metadata": {},
   "source": [
    "It can be solved in this way: to iterate through the elements of two lists at the same time, we use the `zip()` (construction discussed above):"
   ]
  },
  {
   "cell_type": "code",
   "execution_count": 65,
   "id": "0f355081",
   "metadata": {},
   "outputs": [
    {
     "name": "stdout",
     "output_type": "stream",
     "text": [
      "[3, 8, 108]\n"
     ]
    }
   ],
   "source": [
    "Z = []\n",
    "for x, y in zip(X, Y):\n",
    "    Z.append(x + y)\n",
    "print(Z)"
   ]
  },
  {
   "cell_type": "markdown",
   "id": "735e45be",
   "metadata": {},
   "source": [
    "But with list comprehension, the same code looks much nicer:"
   ]
  },
  {
   "cell_type": "code",
   "execution_count": 66,
   "id": "d254499f",
   "metadata": {},
   "outputs": [
    {
     "data": {
      "text/plain": [
       "[3, 8, 108]"
      ]
     },
     "execution_count": 66,
     "metadata": {},
     "output_type": "execute_result"
    }
   ],
   "source": [
    "[x + y for x, y in zip(X, Y)]"
   ]
  },
  {
   "cell_type": "markdown",
   "id": "c5d41622",
   "metadata": {},
   "source": [
    "By the way we can use a syntax similar to list comprehension to create dictionaries:"
   ]
  },
  {
   "cell_type": "code",
   "execution_count": 67,
   "id": "ffa0df5c",
   "metadata": {},
   "outputs": [
    {
     "data": {
      "text/plain": [
       "{0: 0, 1: 1, 2: 4, 3: 9, 4: 16, 5: 25, 6: 36, 7: 49, 8: 64, 9: 81}"
      ]
     },
     "execution_count": 67,
     "metadata": {},
     "output_type": "execute_result"
    }
   ],
   "source": [
    "squared = {i: i**2 for i in range(10)} \n",
    "squared"
   ]
  },
  {
   "cell_type": "markdown",
   "id": "39e85de6",
   "metadata": {},
   "source": [
    "## The map() function\n",
    "\n",
    "List comprehension have an analog that is now considered not too convenient, but sometimes there is: a `map()` function."
   ]
  },
  {
   "cell_type": "code",
   "execution_count": 68,
   "id": "f5d82957",
   "metadata": {},
   "outputs": [
    {
     "data": {
      "text/plain": [
       "['1', '5', '12', '7']"
      ]
     },
     "execution_count": 68,
     "metadata": {},
     "output_type": "execute_result"
    }
   ],
   "source": [
    "str_list"
   ]
  },
  {
   "cell_type": "markdown",
   "id": "d031c328",
   "metadata": {},
   "source": [
    "This is how it is solved using `map()`:"
   ]
  },
  {
   "cell_type": "code",
   "execution_count": 69,
   "id": "5b3fbe6c",
   "metadata": {},
   "outputs": [],
   "source": [
    "int_list = list(map(int, str_list))"
   ]
  },
  {
   "cell_type": "code",
   "execution_count": 70,
   "id": "a37f6b4f",
   "metadata": {},
   "outputs": [
    {
     "data": {
      "text/plain": [
       "[1, 5, 12, 7]"
      ]
     },
     "execution_count": 70,
     "metadata": {},
     "output_type": "execute_result"
    }
   ],
   "source": [
    "list(int_list)"
   ]
  },
  {
   "cell_type": "markdown",
   "id": "7631da8a",
   "metadata": {},
   "source": [
    "The `map()` function takes two arguments. The first argument it takes is a function after that it applies this function to each of the list items. In general entries of the form `list(map (int, str_list))` and `[int(x) for x in str_list]` are almost equivalent.\n",
    "\n",
    "When the action to be applied already exists as a function (as in the case of `int`), the construction with `map()` looks even more concise than list comprehension, but if we need to do something less trivial, list comprehension is clearly easier."
   ]
  },
  {
   "cell_type": "code",
   "execution_count": 71,
   "id": "bf8165a7",
   "metadata": {},
   "outputs": [
    {
     "data": {
      "text/plain": [
       "[2, 6, 13, 8]"
      ]
     },
     "execution_count": 71,
     "metadata": {},
     "output_type": "execute_result"
    }
   ],
   "source": [
    "[int(x) + 1 for x in str_list]"
   ]
  },
  {
   "cell_type": "markdown",
   "id": "c33da09f",
   "metadata": {},
   "source": [
    "To implement this with `map()`, we need to declare a new function that will return the value of the expression `int(x) + 1` and pass it to `map()`:"
   ]
  },
  {
   "cell_type": "code",
   "execution_count": 72,
   "id": "f47ae341",
   "metadata": {},
   "outputs": [],
   "source": [
    "def my_func(x): \n",
    "    return int(x) + 1"
   ]
  },
  {
   "cell_type": "code",
   "execution_count": 73,
   "id": "87805b81",
   "metadata": {},
   "outputs": [
    {
     "data": {
      "text/plain": [
       "[2, 6, 13, 8]"
      ]
     },
     "execution_count": 73,
     "metadata": {},
     "output_type": "execute_result"
    }
   ],
   "source": [
    "list(map(my_func, str_list))"
   ]
  },
  {
   "cell_type": "markdown",
   "id": "b1f19243",
   "metadata": {},
   "source": [
    "For brevity you can use `lambda` functions but this approach is much less transparent than list comprehension and it is not recommended to use it now.\n",
    "\n",
    "## Two words about efficiency\n",
    "\n",
    "Using list comprehension is not only pleasant but also useful they work more efficiently than code with a loop."
   ]
  },
  {
   "cell_type": "code",
   "execution_count": 74,
   "id": "b6a0fea3",
   "metadata": {},
   "outputs": [],
   "source": [
    "from random import random\n",
    "from math import sqrt\n",
    "N = 10000\n",
    "mylist = [random() for _ in range(N)]"
   ]
  },
  {
   "cell_type": "code",
   "execution_count": 75,
   "id": "3e5e66e2",
   "metadata": {},
   "outputs": [
    {
     "name": "stdout",
     "output_type": "stream",
     "text": [
      "1.43 ms ± 219 µs per loop (mean ± std. dev. of 7 runs, 1000 loops each)\n"
     ]
    }
   ],
   "source": [
    "%%timeit\n",
    "newlist = []\n",
    "for x in mylist:\n",
    "    newlist.append(sqrt(x))"
   ]
  },
  {
   "cell_type": "code",
   "execution_count": 76,
   "id": "c670d041",
   "metadata": {},
   "outputs": [
    {
     "name": "stdout",
     "output_type": "stream",
     "text": [
      "919 µs ± 52 µs per loop (mean ± std. dev. of 7 runs, 1000 loops each)\n"
     ]
    }
   ],
   "source": [
    "%%timeit\n",
    "newlist = [sqrt(x) for x in mylist]"
   ]
  },
  {
   "cell_type": "code",
   "execution_count": 77,
   "id": "8c0dc3be",
   "metadata": {},
   "outputs": [
    {
     "name": "stdout",
     "output_type": "stream",
     "text": [
      "559 µs ± 154 µs per loop (mean ± std. dev. of 7 runs, 1000 loops each)\n"
     ]
    }
   ],
   "source": [
    "%%timeit\n",
    "newlist = list(map(sqrt, mylist))"
   ]
  },
  {
   "cell_type": "markdown",
   "id": "a6b4ab5e",
   "metadata": {},
   "source": [
    "As we can see from this data (the magic word `%%timeit` allows us to measure how much time is spent on some operation) list comprehension are faster than a normal loop. `map()` works at about the same speed as list comprehension (sometimes a little slower, sometimes a little faster).\n",
    "\n",
    "## Complex data structures\n",
    "\n",
    "Lists allows us to save a certain number of values but often we need to be able to work with more complex structures for example with tables. In some programming languages there are two dimensional arrays. The analog of a two dimensional array in Python is a \"list of lists\", that is a list whose elements are other lists. With something similar we have already met.\n",
    "\n",
    "Let's take an example a table that records the results of several homework assignments for several students. Let's say we assigned some numbers to students and so we don't need to know who is what their name is. It can be written as a list of lists for example by strings:"
   ]
  },
  {
   "cell_type": "code",
   "execution_count": 80,
   "id": "f97873cc",
   "metadata": {},
   "outputs": [],
   "source": [
    "table = [ [\"HW1\", \"HW2\", \"HW3\", \"HW4\"], \n",
    "          [4, 3, 4, 4], \n",
    "          [3, 4, 3, 4], \n",
    "          [4, 5, 5, 4]\n",
    "        ]"
   ]
  },
  {
   "cell_type": "markdown",
   "id": "012c05c9",
   "metadata": {},
   "source": [
    "Here each element of the table list is a row of our table that is also a list. For example this is how you can find out what is written in the third row and fourth column of our table:"
   ]
  },
  {
   "cell_type": "code",
   "execution_count": 81,
   "id": "db2ed30c",
   "metadata": {},
   "outputs": [
    {
     "data": {
      "text/plain": [
       "4"
      ]
     },
     "execution_count": 81,
     "metadata": {},
     "output_type": "execute_result"
    }
   ],
   "source": [
    "table[2][3]"
   ]
  },
  {
   "cell_type": "markdown",
   "id": "c89e74da",
   "metadata": {},
   "source": [
    "What happened here? We first called the third row of the table with:"
   ]
  },
  {
   "cell_type": "code",
   "execution_count": 83,
   "id": "d338963a",
   "metadata": {},
   "outputs": [
    {
     "data": {
      "text/plain": [
       "[3, 4, 3, 4]"
      ]
     },
     "execution_count": 83,
     "metadata": {},
     "output_type": "execute_result"
    }
   ],
   "source": [
    "table[2]"
   ]
  },
  {
   "cell_type": "markdown",
   "id": "7a78227b",
   "metadata": {},
   "source": [
    "And then from this third line we selected the fourth element with the help of `[3]`. We could write this in more detail:"
   ]
  },
  {
   "cell_type": "code",
   "execution_count": 84,
   "id": "b51a2ae1",
   "metadata": {},
   "outputs": [
    {
     "name": "stdout",
     "output_type": "stream",
     "text": [
      "4\n"
     ]
    }
   ],
   "source": [
    "row = table[2]\n",
    "print(row[3])\n",
    "# row[3] is same with table[2][3]"
   ]
  },
  {
   "cell_type": "markdown",
   "id": "31d742b7",
   "metadata": {},
   "source": [
    "This is how we can print all the elements of the table in rows:"
   ]
  },
  {
   "cell_type": "code",
   "execution_count": 85,
   "id": "df42a5da",
   "metadata": {},
   "outputs": [
    {
     "name": "stdout",
     "output_type": "stream",
     "text": [
      "HW1 HW2 HW3 HW4\n",
      "4 3 4 4\n",
      "3 4 3 4\n",
      "4 5 5 4\n"
     ]
    }
   ],
   "source": [
    "for row in table: \n",
    "    print(*row)"
   ]
  },
  {
   "cell_type": "markdown",
   "id": "3ab1ab61",
   "metadata": {},
   "source": [
    "Now let's say that we still want to know which student received what grade. Then we could use a dictionary instead of a list of lists where the lists would be values:"
   ]
  },
  {
   "cell_type": "code",
   "execution_count": 86,
   "id": "623a4df9",
   "metadata": {},
   "outputs": [],
   "source": [
    "gradebook = {'Bill': [4, 3, 2], 'Alice': [3, 4, 5], 'Bob': [5, 5, 4]}"
   ]
  },
  {
   "cell_type": "markdown",
   "id": "cc9af82c",
   "metadata": {},
   "source": [
    "This is how you can see what grade Bob received on the second homework:"
   ]
  },
  {
   "cell_type": "code",
   "execution_count": 87,
   "id": "88ebbbb9",
   "metadata": {},
   "outputs": [
    {
     "data": {
      "text/plain": [
       "5"
      ]
     },
     "execution_count": 87,
     "metadata": {},
     "output_type": "execute_result"
    }
   ],
   "source": [
    "gradebook['Bob'][1]"
   ]
  }
 ],
 "metadata": {
  "kernelspec": {
   "display_name": "Python 3",
   "language": "python",
   "name": "python3"
  },
  "language_info": {
   "codemirror_mode": {
    "name": "ipython",
    "version": 3
   },
   "file_extension": ".py",
   "mimetype": "text/x-python",
   "name": "python",
   "nbconvert_exporter": "python",
   "pygments_lexer": "ipython3",
   "version": "3.9.5"
  }
 },
 "nbformat": 4,
 "nbformat_minor": 5
}
