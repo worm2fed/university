{
 "cells": [
  {
   "cell_type": "markdown",
   "id": "2ec30467",
   "metadata": {},
   "source": [
    "# Information technologies\n",
    "\n",
    "Student: Demidenko A. A., group IS/b-18-1-z\n",
    "\n",
    "\n",
    "## Example of a function definition\n",
    "\n",
    "For example:"
   ]
  },
  {
   "cell_type": "code",
   "execution_count": 1,
   "id": "51c0a3bc",
   "metadata": {},
   "outputs": [
    {
     "data": {
      "text/plain": [
       "8.0"
      ]
     },
     "execution_count": 1,
     "metadata": {},
     "output_type": "execute_result"
    }
   ],
   "source": [
    "from math import sqrt\n",
    "sqrt(25) + sqrt(9)"
   ]
  },
  {
   "cell_type": "markdown",
   "id": "2854210b",
   "metadata": {},
   "source": [
    "Functions in programming are similar to functions in mathematics although they have their own specifics. Let's write some function. For example consider the *factorial*. Recall that the factorial of a natural number is the product of all natural numbers (starting from 1) to *n*.\n",
    "\n",
    "`factorial(n) = 1 * 2 * ... * n`\n",
    "\n",
    "Let's start by writing a program to calculate the factorial of a number. It will look like this:"
   ]
  },
  {
   "cell_type": "code",
   "execution_count": 2,
   "id": "03e7dc37",
   "metadata": {},
   "outputs": [
    {
     "name": "stdout",
     "output_type": "stream",
     "text": [
      "120\n"
     ]
    }
   ],
   "source": [
    "n = 5\n",
    "f = 1\n",
    "\n",
    "for i in range(2, n + 1):\n",
    "    f = f * i\n",
    "    # same with: f *= i\n",
    "print(f)"
   ]
  },
  {
   "cell_type": "markdown",
   "id": "0633923a",
   "metadata": {},
   "source": [
    "In this case we need to write a function that calculates the factorial. It looks like this:"
   ]
  },
  {
   "cell_type": "code",
   "execution_count": 3,
   "id": "6343ddf8",
   "metadata": {},
   "outputs": [],
   "source": [
    "def factorial(n):\n",
    "    f = 1\n",
    "    for i in range(2, n + 1):\n",
    "        f = f * i\n",
    "    return f"
   ]
  },
  {
   "cell_type": "markdown",
   "id": "aa2c60f8",
   "metadata": {},
   "source": [
    "Now we can call `factorial` function passing argument to it."
   ]
  },
  {
   "cell_type": "code",
   "execution_count": 4,
   "id": "2ec4e3a4",
   "metadata": {},
   "outputs": [
    {
     "data": {
      "text/plain": [
       "720"
      ]
     },
     "execution_count": 4,
     "metadata": {},
     "output_type": "execute_result"
    }
   ],
   "source": [
    "factorial(6)"
   ]
  },
  {
   "cell_type": "markdown",
   "id": "53718305",
   "metadata": {},
   "source": [
    "And even use it in more complex expressions:"
   ]
  },
  {
   "cell_type": "code",
   "execution_count": 5,
   "id": "0c79166d",
   "metadata": {},
   "outputs": [
    {
     "data": {
      "text/plain": [
       "840"
      ]
     },
     "execution_count": 5,
     "metadata": {},
     "output_type": "execute_result"
    }
   ],
   "source": [
    "factorial(5) + factorial(6)"
   ]
  },
  {
   "cell_type": "markdown",
   "id": "43472850",
   "metadata": {},
   "source": [
    "Let's take a closer look at what happens when it evaluates the value of the expression `factorial(6)`. First of all, it looks at the first line of the function definition (it's named *signature*):\n",
    "```python\n",
    "def factorial(n):\n",
    "```\n",
    "\n",
    "Here he sees that the function `factorial()` has an argument, which name is `n`. Python remembers that we called `factorial(6)` that is, the value of the argument must be equal to 6. Then it executes a line (that we did not write)\n",
    "```python\n",
    "n = 6\n",
    "```\n",
    "\n",
    "After that, it executes the remaining lines from the function body:\n",
    "```python\n",
    "f = 1\n",
    "for i in range(2, n + 1):\n",
    "    f = f * i\n",
    "```\n",
    "\n",
    "Finally it comes to the line:\n",
    "```python\n",
    "return f\n",
    "```\n",
    "\n",
    "At this point, the variable `f` has the value `42`. Word `return` means Python have to return to the line in which the call of `factorial(6)` was made and replace `factorial(6)` to `24` (what is written after `return`). This completes the function call.\n",
    "\n",
    "## Returning values\n",
    "\n",
    "Let's look at an example of what is the difference between a return value and a side effect. Write a function that welcomes the user."
   ]
  },
  {
   "cell_type": "code",
   "execution_count": 6,
   "id": "028735dc",
   "metadata": {},
   "outputs": [],
   "source": [
    "def hello(name):\n",
    "    return \"Hello, \" + name + \"!\""
   ]
  },
  {
   "cell_type": "code",
   "execution_count": 10,
   "id": "56988f4d",
   "metadata": {},
   "outputs": [],
   "source": [
    "s = hello(\"World\")"
   ]
  },
  {
   "cell_type": "code",
   "execution_count": 11,
   "id": "9327a483",
   "metadata": {},
   "outputs": [
    {
     "data": {
      "text/plain": [
       "'Hello, World!'"
      ]
     },
     "execution_count": 11,
     "metadata": {},
     "output_type": "execute_result"
    }
   ],
   "source": [
    "s"
   ]
  },
  {
   "cell_type": "markdown",
   "id": "de587d05",
   "metadata": {},
   "source": [
    "`s` variable stores now the result of executing `hello()` to which we passed argument `name` which is equal to `\"World\"`.\n",
    "\n",
    "Now let's write another function that doesn't *return* a line but prints it."
   ]
  },
  {
   "cell_type": "code",
   "execution_count": 13,
   "id": "184b31a7",
   "metadata": {},
   "outputs": [],
   "source": [
    "def say_hello(name):\n",
    "    print(\"Hello, \" + name + \"!\")"
   ]
  },
  {
   "cell_type": "markdown",
   "id": "184959d8",
   "metadata": {},
   "source": [
    "In this function there is no `return` command at all, but Python will understand that it is necessary to return from the function to the main program at the moment when the lines in the function have ended. In this case there is only one line in the function."
   ]
  },
  {
   "cell_type": "code",
   "execution_count": 14,
   "id": "6d733b32",
   "metadata": {},
   "outputs": [
    {
     "name": "stdout",
     "output_type": "stream",
     "text": [
      "Hello, Harry!\n"
     ]
    }
   ],
   "source": [
    "s = say_hello(\"Harry\")"
   ]
  },
  {
   "cell_type": "markdown",
   "id": "fb662ab1",
   "metadata": {},
   "source": [
    "Note that now when `s = say_hello(\"Harry\")` is executed, the line is printed. This is a side effect of executing the `say_hello` function. But what `s` variable stores?"
   ]
  },
  {
   "cell_type": "code",
   "execution_count": 15,
   "id": "32506a5f",
   "metadata": {},
   "outputs": [],
   "source": [
    "s"
   ]
  },
  {
   "cell_type": "code",
   "execution_count": 16,
   "id": "3d5577c7",
   "metadata": {},
   "outputs": [
    {
     "name": "stdout",
     "output_type": "stream",
     "text": [
      "None\n"
     ]
    }
   ],
   "source": [
    "print(s)"
   ]
  },
  {
   "cell_type": "markdown",
   "id": "7806e74d",
   "metadata": {},
   "source": [
    "It contains *nothing*. This is a special object `None` that is used when a value needs to be assigned to a variable but there is no value. In this case it is absent because the function did not return anything. The  are no return value of `say_hello()`. It happens.\n",
    "\n",
    "## More complex situations with functions\n",
    "\n",
    "Functions can call other functions. For example instead of copying the string `\"Hello,\" + name + \"!\"` from the `hello()` function to the `say_hello()` function, just call `hello()` from `say_hello()`."
   ]
  },
  {
   "cell_type": "code",
   "execution_count": 17,
   "id": "148175cc",
   "metadata": {},
   "outputs": [],
   "source": [
    "def new_say_hello(name):\n",
    "    print(hello(name))"
   ]
  },
  {
   "cell_type": "code",
   "execution_count": 18,
   "id": "05e6ba94",
   "metadata": {},
   "outputs": [
    {
     "name": "stdout",
     "output_type": "stream",
     "text": [
      "Hello, Harry!\n"
     ]
    }
   ],
   "source": [
    "new_say_hello(\"Harry\")"
   ]
  },
  {
   "cell_type": "markdown",
   "id": "b6f3ccd1",
   "metadata": {},
   "source": [
    "For example let's write a function that calculates the binomial coefficients. Recall that the binomial coefficient `C_n^k` is a number, shows in how many ways we can take `k` objects from `n`. Great combinatorics science tought us, that we can calculate that as following:\n",
    "\n",
    "![equation](http://www.sciweavers.org/upload/Tex2Img_1622196169/eqn.png)\n",
    "\n",
    "Here exclamation marks denote factorials. We will write a function that calculates the binomial coefficient. We will use the previously written `factorial` function for this purpose."
   ]
  },
  {
   "cell_type": "code",
   "execution_count": 21,
   "id": "d19d5171",
   "metadata": {},
   "outputs": [],
   "source": [
    "def binom(k, n): \n",
    "    \"\"\"\n",
    "    calculates binomial coeffs: k from n\n",
    "    k, n are integers\n",
    "    retuns C_n^k\n",
    "    \"\"\"\n",
    "    return factorial(n) // (factorial(k) * factorial(n - k))\n",
    "# we can use integer division, because result will be definitly integer"
   ]
  },
  {
   "cell_type": "markdown",
   "id": "95ee5153",
   "metadata": {},
   "source": [
    "In how many ways can we choose two people on duty from three participants of the campaign? Three - because choosing two people on duty is the same as choosing one person who is not on duty."
   ]
  },
  {
   "cell_type": "code",
   "execution_count": 22,
   "id": "f4901c34",
   "metadata": {},
   "outputs": [
    {
     "data": {
      "text/plain": [
       "3"
      ]
     },
     "execution_count": 22,
     "metadata": {},
     "output_type": "execute_result"
    }
   ],
   "source": [
    "binom(2, 3)"
   ]
  },
  {
   "cell_type": "markdown",
   "id": "45ec2b8a",
   "metadata": {},
   "source": [
    "Triple quotes after the function signature references external description (`docstring`). This is a comment for people who will use your function in the future. To view this help you can type the name of your function, the opening parenthesis and press `Shift + Tab + Tab`.\n",
    "\n",
    "After executing `return` line the function stops executing. Let's look at another example: we'll calculate the modulus of a certain number."
   ]
  },
  {
   "cell_type": "code",
   "execution_count": 23,
   "id": "5d829ed9",
   "metadata": {},
   "outputs": [],
   "source": [
    "def my_abs(x): \n",
    "    if x > 0:\n",
    "        return x\n",
    "    else:\n",
    "        return -x"
   ]
  },
  {
   "cell_type": "code",
   "execution_count": 24,
   "id": "1e226408",
   "metadata": {},
   "outputs": [
    {
     "data": {
      "text/plain": [
       "5"
      ]
     },
     "execution_count": 24,
     "metadata": {},
     "output_type": "execute_result"
    }
   ],
   "source": [
    "my_abs(-5)"
   ]
  },
  {
   "cell_type": "markdown",
   "id": "bd8205b3",
   "metadata": {},
   "source": [
    "This is the simplest solution if the number is positive then it returns itself, and if it is negative then it returns it with the inverse sign (`-x`). You could write this function in this way:"
   ]
  },
  {
   "cell_type": "code",
   "execution_count": 25,
   "id": "8f422e98",
   "metadata": {},
   "outputs": [],
   "source": [
    "def my_abs(x):\n",
    "    print(\"New my_abs\")\n",
    "    # if functions with same name exists, \n",
    "    # then Python creates a now one\n",
    "    # to ensure it we put print here\n",
    "    if x > 0:\n",
    "        return x \n",
    "    return -x"
   ]
  },
  {
   "cell_type": "code",
   "execution_count": 26,
   "id": "65a24b4f",
   "metadata": {},
   "outputs": [
    {
     "name": "stdout",
     "output_type": "stream",
     "text": [
      "New my_abs\n"
     ]
    },
    {
     "data": {
      "text/plain": [
       "6"
      ]
     },
     "execution_count": 26,
     "metadata": {},
     "output_type": "execute_result"
    }
   ],
   "source": [
    "my_abs(-6)"
   ]
  },
  {
   "cell_type": "markdown",
   "id": "0295daf9",
   "metadata": {},
   "source": [
    "Here the following happens: if the number is positive, then `return x` is triggered and after that the function execution stops until the `return -x` line is reached. And if the number is negative, then only the `return -x` line is triggered (because of the if statement)."
   ]
  },
  {
   "cell_type": "code",
   "execution_count": 27,
   "id": "b72b0925",
   "metadata": {},
   "outputs": [
    {
     "ename": "ModuleNotFoundError",
     "evalue": "No module named 'tutormagic'",
     "output_type": "error",
     "traceback": [
      "\u001b[0;31m---------------------------------------------------------------------------\u001b[0m",
      "\u001b[0;31mModuleNotFoundError\u001b[0m                       Traceback (most recent call last)",
      "\u001b[0;32m<ipython-input-27-d31836f5d23a>\u001b[0m in \u001b[0;36m<module>\u001b[0;34m\u001b[0m\n\u001b[0;32m----> 1\u001b[0;31m \u001b[0mget_ipython\u001b[0m\u001b[0;34m(\u001b[0m\u001b[0;34m)\u001b[0m\u001b[0;34m.\u001b[0m\u001b[0mrun_line_magic\u001b[0m\u001b[0;34m(\u001b[0m\u001b[0;34m'load_ext'\u001b[0m\u001b[0;34m,\u001b[0m \u001b[0;34m'tutormagic'\u001b[0m\u001b[0;34m)\u001b[0m\u001b[0;34m\u001b[0m\u001b[0;34m\u001b[0m\u001b[0m\n\u001b[0m",
      "\u001b[0;32m/usr/local/lib/python3.9/site-packages/IPython/core/interactiveshell.py\u001b[0m in \u001b[0;36mrun_line_magic\u001b[0;34m(self, magic_name, line, _stack_depth)\u001b[0m\n\u001b[1;32m   2346\u001b[0m                 \u001b[0mkwargs\u001b[0m\u001b[0;34m[\u001b[0m\u001b[0;34m'local_ns'\u001b[0m\u001b[0;34m]\u001b[0m \u001b[0;34m=\u001b[0m \u001b[0mself\u001b[0m\u001b[0;34m.\u001b[0m\u001b[0mget_local_scope\u001b[0m\u001b[0;34m(\u001b[0m\u001b[0mstack_depth\u001b[0m\u001b[0;34m)\u001b[0m\u001b[0;34m\u001b[0m\u001b[0;34m\u001b[0m\u001b[0m\n\u001b[1;32m   2347\u001b[0m             \u001b[0;32mwith\u001b[0m \u001b[0mself\u001b[0m\u001b[0;34m.\u001b[0m\u001b[0mbuiltin_trap\u001b[0m\u001b[0;34m:\u001b[0m\u001b[0;34m\u001b[0m\u001b[0;34m\u001b[0m\u001b[0m\n\u001b[0;32m-> 2348\u001b[0;31m                 \u001b[0mresult\u001b[0m \u001b[0;34m=\u001b[0m \u001b[0mfn\u001b[0m\u001b[0;34m(\u001b[0m\u001b[0;34m*\u001b[0m\u001b[0margs\u001b[0m\u001b[0;34m,\u001b[0m \u001b[0;34m**\u001b[0m\u001b[0mkwargs\u001b[0m\u001b[0;34m)\u001b[0m\u001b[0;34m\u001b[0m\u001b[0;34m\u001b[0m\u001b[0m\n\u001b[0m\u001b[1;32m   2349\u001b[0m             \u001b[0;32mreturn\u001b[0m \u001b[0mresult\u001b[0m\u001b[0;34m\u001b[0m\u001b[0;34m\u001b[0m\u001b[0m\n\u001b[1;32m   2350\u001b[0m \u001b[0;34m\u001b[0m\u001b[0m\n",
      "\u001b[0;32m/usr/local/lib/python3.9/site-packages/decorator.py\u001b[0m in \u001b[0;36mfun\u001b[0;34m(*args, **kw)\u001b[0m\n\u001b[1;32m    230\u001b[0m             \u001b[0;32mif\u001b[0m \u001b[0;32mnot\u001b[0m \u001b[0mkwsyntax\u001b[0m\u001b[0;34m:\u001b[0m\u001b[0;34m\u001b[0m\u001b[0;34m\u001b[0m\u001b[0m\n\u001b[1;32m    231\u001b[0m                 \u001b[0margs\u001b[0m\u001b[0;34m,\u001b[0m \u001b[0mkw\u001b[0m \u001b[0;34m=\u001b[0m \u001b[0mfix\u001b[0m\u001b[0;34m(\u001b[0m\u001b[0margs\u001b[0m\u001b[0;34m,\u001b[0m \u001b[0mkw\u001b[0m\u001b[0;34m,\u001b[0m \u001b[0msig\u001b[0m\u001b[0;34m)\u001b[0m\u001b[0;34m\u001b[0m\u001b[0;34m\u001b[0m\u001b[0m\n\u001b[0;32m--> 232\u001b[0;31m             \u001b[0;32mreturn\u001b[0m \u001b[0mcaller\u001b[0m\u001b[0;34m(\u001b[0m\u001b[0mfunc\u001b[0m\u001b[0;34m,\u001b[0m \u001b[0;34m*\u001b[0m\u001b[0;34m(\u001b[0m\u001b[0mextras\u001b[0m \u001b[0;34m+\u001b[0m \u001b[0margs\u001b[0m\u001b[0;34m)\u001b[0m\u001b[0;34m,\u001b[0m \u001b[0;34m**\u001b[0m\u001b[0mkw\u001b[0m\u001b[0;34m)\u001b[0m\u001b[0;34m\u001b[0m\u001b[0;34m\u001b[0m\u001b[0m\n\u001b[0m\u001b[1;32m    233\u001b[0m     \u001b[0mfun\u001b[0m\u001b[0;34m.\u001b[0m\u001b[0m__name__\u001b[0m \u001b[0;34m=\u001b[0m \u001b[0mfunc\u001b[0m\u001b[0;34m.\u001b[0m\u001b[0m__name__\u001b[0m\u001b[0;34m\u001b[0m\u001b[0;34m\u001b[0m\u001b[0m\n\u001b[1;32m    234\u001b[0m     \u001b[0mfun\u001b[0m\u001b[0;34m.\u001b[0m\u001b[0m__doc__\u001b[0m \u001b[0;34m=\u001b[0m \u001b[0mfunc\u001b[0m\u001b[0;34m.\u001b[0m\u001b[0m__doc__\u001b[0m\u001b[0;34m\u001b[0m\u001b[0;34m\u001b[0m\u001b[0m\n",
      "\u001b[0;32m/usr/local/lib/python3.9/site-packages/IPython/core/magic.py\u001b[0m in \u001b[0;36m<lambda>\u001b[0;34m(f, *a, **k)\u001b[0m\n\u001b[1;32m    185\u001b[0m     \u001b[0;31m# but it's overkill for just that one bit of state.\u001b[0m\u001b[0;34m\u001b[0m\u001b[0;34m\u001b[0m\u001b[0;34m\u001b[0m\u001b[0m\n\u001b[1;32m    186\u001b[0m     \u001b[0;32mdef\u001b[0m \u001b[0mmagic_deco\u001b[0m\u001b[0;34m(\u001b[0m\u001b[0marg\u001b[0m\u001b[0;34m)\u001b[0m\u001b[0;34m:\u001b[0m\u001b[0;34m\u001b[0m\u001b[0;34m\u001b[0m\u001b[0m\n\u001b[0;32m--> 187\u001b[0;31m         \u001b[0mcall\u001b[0m \u001b[0;34m=\u001b[0m \u001b[0;32mlambda\u001b[0m \u001b[0mf\u001b[0m\u001b[0;34m,\u001b[0m \u001b[0;34m*\u001b[0m\u001b[0ma\u001b[0m\u001b[0;34m,\u001b[0m \u001b[0;34m**\u001b[0m\u001b[0mk\u001b[0m\u001b[0;34m:\u001b[0m \u001b[0mf\u001b[0m\u001b[0;34m(\u001b[0m\u001b[0;34m*\u001b[0m\u001b[0ma\u001b[0m\u001b[0;34m,\u001b[0m \u001b[0;34m**\u001b[0m\u001b[0mk\u001b[0m\u001b[0;34m)\u001b[0m\u001b[0;34m\u001b[0m\u001b[0;34m\u001b[0m\u001b[0m\n\u001b[0m\u001b[1;32m    188\u001b[0m \u001b[0;34m\u001b[0m\u001b[0m\n\u001b[1;32m    189\u001b[0m         \u001b[0;32mif\u001b[0m \u001b[0mcallable\u001b[0m\u001b[0;34m(\u001b[0m\u001b[0marg\u001b[0m\u001b[0;34m)\u001b[0m\u001b[0;34m:\u001b[0m\u001b[0;34m\u001b[0m\u001b[0;34m\u001b[0m\u001b[0m\n",
      "\u001b[0;32m/usr/local/lib/python3.9/site-packages/IPython/core/magics/extension.py\u001b[0m in \u001b[0;36mload_ext\u001b[0;34m(self, module_str)\u001b[0m\n\u001b[1;32m     31\u001b[0m         \u001b[0;32mif\u001b[0m \u001b[0;32mnot\u001b[0m \u001b[0mmodule_str\u001b[0m\u001b[0;34m:\u001b[0m\u001b[0;34m\u001b[0m\u001b[0;34m\u001b[0m\u001b[0m\n\u001b[1;32m     32\u001b[0m             \u001b[0;32mraise\u001b[0m \u001b[0mUsageError\u001b[0m\u001b[0;34m(\u001b[0m\u001b[0;34m'Missing module name.'\u001b[0m\u001b[0;34m)\u001b[0m\u001b[0;34m\u001b[0m\u001b[0;34m\u001b[0m\u001b[0m\n\u001b[0;32m---> 33\u001b[0;31m         \u001b[0mres\u001b[0m \u001b[0;34m=\u001b[0m \u001b[0mself\u001b[0m\u001b[0;34m.\u001b[0m\u001b[0mshell\u001b[0m\u001b[0;34m.\u001b[0m\u001b[0mextension_manager\u001b[0m\u001b[0;34m.\u001b[0m\u001b[0mload_extension\u001b[0m\u001b[0;34m(\u001b[0m\u001b[0mmodule_str\u001b[0m\u001b[0;34m)\u001b[0m\u001b[0;34m\u001b[0m\u001b[0;34m\u001b[0m\u001b[0m\n\u001b[0m\u001b[1;32m     34\u001b[0m \u001b[0;34m\u001b[0m\u001b[0m\n\u001b[1;32m     35\u001b[0m         \u001b[0;32mif\u001b[0m \u001b[0mres\u001b[0m \u001b[0;34m==\u001b[0m \u001b[0;34m'already loaded'\u001b[0m\u001b[0;34m:\u001b[0m\u001b[0;34m\u001b[0m\u001b[0;34m\u001b[0m\u001b[0m\n",
      "\u001b[0;32m/usr/local/lib/python3.9/site-packages/IPython/core/extensions.py\u001b[0m in \u001b[0;36mload_extension\u001b[0;34m(self, module_str)\u001b[0m\n\u001b[1;32m     78\u001b[0m             \u001b[0;32mif\u001b[0m \u001b[0mmodule_str\u001b[0m \u001b[0;32mnot\u001b[0m \u001b[0;32min\u001b[0m \u001b[0msys\u001b[0m\u001b[0;34m.\u001b[0m\u001b[0mmodules\u001b[0m\u001b[0;34m:\u001b[0m\u001b[0;34m\u001b[0m\u001b[0;34m\u001b[0m\u001b[0m\n\u001b[1;32m     79\u001b[0m                 \u001b[0;32mwith\u001b[0m \u001b[0mprepended_to_syspath\u001b[0m\u001b[0;34m(\u001b[0m\u001b[0mself\u001b[0m\u001b[0;34m.\u001b[0m\u001b[0mipython_extension_dir\u001b[0m\u001b[0;34m)\u001b[0m\u001b[0;34m:\u001b[0m\u001b[0;34m\u001b[0m\u001b[0;34m\u001b[0m\u001b[0m\n\u001b[0;32m---> 80\u001b[0;31m                     \u001b[0mmod\u001b[0m \u001b[0;34m=\u001b[0m \u001b[0mimport_module\u001b[0m\u001b[0;34m(\u001b[0m\u001b[0mmodule_str\u001b[0m\u001b[0;34m)\u001b[0m\u001b[0;34m\u001b[0m\u001b[0;34m\u001b[0m\u001b[0m\n\u001b[0m\u001b[1;32m     81\u001b[0m                     \u001b[0;32mif\u001b[0m \u001b[0mmod\u001b[0m\u001b[0;34m.\u001b[0m\u001b[0m__file__\u001b[0m\u001b[0;34m.\u001b[0m\u001b[0mstartswith\u001b[0m\u001b[0;34m(\u001b[0m\u001b[0mself\u001b[0m\u001b[0;34m.\u001b[0m\u001b[0mipython_extension_dir\u001b[0m\u001b[0;34m)\u001b[0m\u001b[0;34m:\u001b[0m\u001b[0;34m\u001b[0m\u001b[0;34m\u001b[0m\u001b[0m\n\u001b[1;32m     82\u001b[0m                         print((\"Loading extensions from {dir} is deprecated. \"\n",
      "\u001b[0;32m/usr/local/Cellar/python@3.9/3.9.5/Frameworks/Python.framework/Versions/3.9/lib/python3.9/importlib/__init__.py\u001b[0m in \u001b[0;36mimport_module\u001b[0;34m(name, package)\u001b[0m\n\u001b[1;32m    125\u001b[0m                 \u001b[0;32mbreak\u001b[0m\u001b[0;34m\u001b[0m\u001b[0;34m\u001b[0m\u001b[0m\n\u001b[1;32m    126\u001b[0m             \u001b[0mlevel\u001b[0m \u001b[0;34m+=\u001b[0m \u001b[0;36m1\u001b[0m\u001b[0;34m\u001b[0m\u001b[0;34m\u001b[0m\u001b[0m\n\u001b[0;32m--> 127\u001b[0;31m     \u001b[0;32mreturn\u001b[0m \u001b[0m_bootstrap\u001b[0m\u001b[0;34m.\u001b[0m\u001b[0m_gcd_import\u001b[0m\u001b[0;34m(\u001b[0m\u001b[0mname\u001b[0m\u001b[0;34m[\u001b[0m\u001b[0mlevel\u001b[0m\u001b[0;34m:\u001b[0m\u001b[0;34m]\u001b[0m\u001b[0;34m,\u001b[0m \u001b[0mpackage\u001b[0m\u001b[0;34m,\u001b[0m \u001b[0mlevel\u001b[0m\u001b[0;34m)\u001b[0m\u001b[0;34m\u001b[0m\u001b[0;34m\u001b[0m\u001b[0m\n\u001b[0m\u001b[1;32m    128\u001b[0m \u001b[0;34m\u001b[0m\u001b[0m\n\u001b[1;32m    129\u001b[0m \u001b[0;34m\u001b[0m\u001b[0m\n",
      "\u001b[0;32m/usr/local/Cellar/python@3.9/3.9.5/Frameworks/Python.framework/Versions/3.9/lib/python3.9/importlib/_bootstrap.py\u001b[0m in \u001b[0;36m_gcd_import\u001b[0;34m(name, package, level)\u001b[0m\n",
      "\u001b[0;32m/usr/local/Cellar/python@3.9/3.9.5/Frameworks/Python.framework/Versions/3.9/lib/python3.9/importlib/_bootstrap.py\u001b[0m in \u001b[0;36m_find_and_load\u001b[0;34m(name, import_)\u001b[0m\n",
      "\u001b[0;32m/usr/local/Cellar/python@3.9/3.9.5/Frameworks/Python.framework/Versions/3.9/lib/python3.9/importlib/_bootstrap.py\u001b[0m in \u001b[0;36m_find_and_load_unlocked\u001b[0;34m(name, import_)\u001b[0m\n",
      "\u001b[0;31mModuleNotFoundError\u001b[0m: No module named 'tutormagic'"
     ]
    }
   ],
   "source": [
    "%load_ext tutormagic"
   ]
  },
  {
   "cell_type": "markdown",
   "id": "20742344",
   "metadata": {},
   "source": [
    "## Local and global variables\n",
    "\n",
    "Various variables can be created and used inside the function. So that this does not create problems the variables defined inside the function are not visible from the outside. Let's look at an example:"
   ]
  },
  {
   "cell_type": "code",
   "execution_count": 28,
   "id": "766bee27",
   "metadata": {},
   "outputs": [
    {
     "name": "stdout",
     "output_type": "stream",
     "text": [
      "10\n",
      "In the function, f =  40320\n",
      "40320\n",
      "Out of function\n",
      "10\n"
     ]
    }
   ],
   "source": [
    "f = 10\n",
    "\n",
    "def factorial(n):\n",
    "    f = 1\n",
    "    for i in range(2, n + 1): \n",
    "        f = f * i\n",
    "    print(\"In the function, f = \", f) \n",
    "    return f\n",
    "\n",
    "f = 10\n",
    "print(f)\n",
    "print(factorial(8))\n",
    "print(\"Out of function\")\n",
    "print(f)"
   ]
  },
  {
   "cell_type": "markdown",
   "id": "b4c627ff",
   "metadata": {},
   "source": [
    "The same code running with the visualizer:"
   ]
  },
  {
   "cell_type": "code",
   "execution_count": 29,
   "id": "ac4b159d",
   "metadata": {},
   "outputs": [
    {
     "name": "stderr",
     "output_type": "stream",
     "text": [
      "UsageError: Cell magic `%%tutor` not found.\n"
     ]
    }
   ],
   "source": [
    "%%tutor lang='python3'\n",
    "f = 10\n",
    "\n",
    "def factorial(n):\n",
    "    f = 1\n",
    "    for i in range(2, n + 1): \n",
    "        f = f * i\n",
    "    print(\"In the function, f = \", f) \n",
    "    return f\n",
    "\n",
    "f = 10\n",
    "print(f)\n",
    "print(factorial(8))\n",
    "print(\"Out of function\")\n",
    "print(f)"
   ]
  },
  {
   "cell_type": "markdown",
   "id": "678c145b",
   "metadata": {},
   "source": [
    "As can be seen from the result of executing this code, the variable `f` in the main program and a variable `f` inside of a function – is quite different variables (visualizer draws them in different frames). From the fact that we change `f` inside of a function the value of the variable `f` outside has not changed, and vice versa. Is very convenient: if the function changed the value of \"external\" variable, than it could done it by accident and it would lead to unpredictable consequences.\n",
    "\n",
    "Let's say we want to write a function that will greet the user using the language they specified in the settings. It could look like this:"
   ]
  },
  {
   "cell_type": "code",
   "execution_count": 30,
   "id": "28a24c60",
   "metadata": {},
   "outputs": [],
   "source": [
    "def hello_i18n(name, lang): \n",
    "    if lang == 'ru':\n",
    "        print(\"Привет, \", name) \n",
    "    else:\n",
    "        print(\"Hello, \", name)"
   ]
  },
  {
   "cell_type": "code",
   "execution_count": 31,
   "id": "e388f6bd",
   "metadata": {},
   "outputs": [
    {
     "name": "stdout",
     "output_type": "stream",
     "text": [
      "Привет,  Ivan\n"
     ]
    }
   ],
   "source": [
    "hello_i18n(\"Ivan\", 'ru')"
   ]
  },
  {
   "cell_type": "code",
   "execution_count": 32,
   "id": "c937c307",
   "metadata": {},
   "outputs": [
    {
     "name": "stdout",
     "output_type": "stream",
     "text": [
      "Hello,  Ivan\n"
     ]
    }
   ],
   "source": [
    " hello_i18n(\"Ivan\", 'en')"
   ]
  },
  {
   "cell_type": "markdown",
   "id": "456a2886",
   "metadata": {},
   "source": [
    "The problem that there can be a lot of functions need to know which language is selected, and it's quite painful to pass `lang` variable value by hand each time. But we can avoid it:"
   ]
  },
  {
   "cell_type": "code",
   "execution_count": 33,
   "id": "1e175d1c",
   "metadata": {},
   "outputs": [
    {
     "name": "stdout",
     "output_type": "stream",
     "text": [
      "Hello world\n",
      "Привет,  Ivan\n",
      "Hello,  John\n"
     ]
    }
   ],
   "source": [
    "def hello_i18n(name): \n",
    "    if lang == 'ru':\n",
    "        print(\"Привет, \", name) \n",
    "    else:\n",
    "        print(\"Hello, \", name)\n",
    "        \n",
    "lang = 'ru'\n",
    "print(\"Hello world\")\n",
    "hello_i18n('Ivan')\n",
    "\n",
    "lang = 'en'\n",
    "hello_i18n('John')"
   ]
  },
  {
   "cell_type": "markdown",
   "id": "bc623085",
   "metadata": {},
   "source": [
    "As you can see now the behavior of the function depends on what the `lang` variable defined outside the function is equal to. Maybe in the `factorial()` function it was possible to refer to the variable `f` before we put a number 1 in it? Let's try it:"
   ]
  },
  {
   "cell_type": "code",
   "execution_count": 34,
   "id": "2287d159",
   "metadata": {},
   "outputs": [],
   "source": [
    "def factorial(n):\n",
    "    print(\"In the function, before assignment, f = \", f)\n",
    "    f=1\n",
    "    for i in range(2, n + 1):\n",
    "        f = f * i\n",
    "    print(\"In the function, f = \", f)\n",
    "    return f"
   ]
  },
  {
   "cell_type": "code",
   "execution_count": 35,
   "id": "e0e86ca5",
   "metadata": {},
   "outputs": [
    {
     "ename": "UnboundLocalError",
     "evalue": "local variable 'f' referenced before assignment",
     "output_type": "error",
     "traceback": [
      "\u001b[0;31m---------------------------------------------------------------------------\u001b[0m",
      "\u001b[0;31mUnboundLocalError\u001b[0m                         Traceback (most recent call last)",
      "\u001b[0;32m<ipython-input-35-26972ebb8a51>\u001b[0m in \u001b[0;36m<module>\u001b[0;34m\u001b[0m\n\u001b[0;32m----> 1\u001b[0;31m \u001b[0mfactorial\u001b[0m\u001b[0;34m(\u001b[0m\u001b[0;36m2\u001b[0m\u001b[0;34m)\u001b[0m\u001b[0;34m\u001b[0m\u001b[0;34m\u001b[0m\u001b[0m\n\u001b[0m",
      "\u001b[0;32m<ipython-input-34-4a86383a9ee3>\u001b[0m in \u001b[0;36mfactorial\u001b[0;34m(n)\u001b[0m\n\u001b[1;32m      1\u001b[0m \u001b[0;32mdef\u001b[0m \u001b[0mfactorial\u001b[0m\u001b[0;34m(\u001b[0m\u001b[0mn\u001b[0m\u001b[0;34m)\u001b[0m\u001b[0;34m:\u001b[0m\u001b[0;34m\u001b[0m\u001b[0;34m\u001b[0m\u001b[0m\n\u001b[0;32m----> 2\u001b[0;31m     \u001b[0mprint\u001b[0m\u001b[0;34m(\u001b[0m\u001b[0;34m\"In the function, before assignment, f = \"\u001b[0m\u001b[0;34m,\u001b[0m \u001b[0mf\u001b[0m\u001b[0;34m)\u001b[0m\u001b[0;34m\u001b[0m\u001b[0;34m\u001b[0m\u001b[0m\n\u001b[0m\u001b[1;32m      3\u001b[0m     \u001b[0mf\u001b[0m\u001b[0;34m=\u001b[0m\u001b[0;36m1\u001b[0m\u001b[0;34m\u001b[0m\u001b[0;34m\u001b[0m\u001b[0m\n\u001b[1;32m      4\u001b[0m     \u001b[0;32mfor\u001b[0m \u001b[0mi\u001b[0m \u001b[0;32min\u001b[0m \u001b[0mrange\u001b[0m\u001b[0;34m(\u001b[0m\u001b[0;36m2\u001b[0m\u001b[0;34m,\u001b[0m \u001b[0mn\u001b[0m \u001b[0;34m+\u001b[0m \u001b[0;36m1\u001b[0m\u001b[0;34m)\u001b[0m\u001b[0;34m:\u001b[0m\u001b[0;34m\u001b[0m\u001b[0;34m\u001b[0m\u001b[0m\n\u001b[1;32m      5\u001b[0m         \u001b[0mf\u001b[0m \u001b[0;34m=\u001b[0m \u001b[0mf\u001b[0m \u001b[0;34m*\u001b[0m \u001b[0mi\u001b[0m\u001b[0;34m\u001b[0m\u001b[0;34m\u001b[0m\u001b[0m\n",
      "\u001b[0;31mUnboundLocalError\u001b[0m: local variable 'f' referenced before assignment"
     ]
    }
   ],
   "source": [
    "factorial(2) # error"
   ]
  },
  {
   "cell_type": "markdown",
   "id": "9f49f833",
   "metadata": {},
   "source": [
    "In this case, the error returns the local variable `f` was used before assigning the value. What is the difference between this code and the previous one?\n",
    "\n",
    "Python before executing a function, it analyzes its code and determines which of the variables is local and which is global. By default, global variables are those that do not change in the function body (those that do not apply the equate or `+=` operators). In other words, by default, global variables are read-only but not modified from within the function.\n",
    "\n",
    "The situation in which a function modifies a global variable is usually not very desirable: functions should be isolated from the code that runs them, otherwise you will quickly stop understanding what your program is doing. However sometimes modification of global variables is necessary. For example, we want to write a function that will set the value of the user's language. It may look something like this:"
   ]
  },
  {
   "cell_type": "code",
   "execution_count": 36,
   "id": "b78820ff",
   "metadata": {},
   "outputs": [],
   "source": [
    "def set_lang():\n",
    "    useRussian = input(\"Would you like to speak Russian (Y/N): \") \n",
    "    if useRussian == 'Y':\n",
    "        lang = 'ru' \n",
    "    else:\n",
    "        lang = 'en'"
   ]
  },
  {
   "cell_type": "code",
   "execution_count": 38,
   "id": "74f8a6d4",
   "metadata": {},
   "outputs": [
    {
     "name": "stdout",
     "output_type": "stream",
     "text": [
      "en\n",
      "Would you like to speak Russian (Y/N): y\n",
      "en\n"
     ]
    }
   ],
   "source": [
    "lang = 'en'\n",
    "print(lang)\n",
    "set_lang()\n",
    "print(lang)"
   ]
  },
  {
   "cell_type": "markdown",
   "id": "13c20361",
   "metadata": {},
   "source": [
    "As we can see this function does not work, in fact and should not. In order for the function `set_lang` to be able to change the value of the `lang` variable, it must be explicitly declared as global using the `global` keyword."
   ]
  },
  {
   "cell_type": "code",
   "execution_count": 39,
   "id": "0a730cc7",
   "metadata": {},
   "outputs": [],
   "source": [
    "def set_lang():\n",
    "    global lang\n",
    "    useRussian = input(\"Would you like to speak Russian (Y/N): \") \n",
    "    if useRussian == 'Y':\n",
    "        lang = 'ru' \n",
    "    else:\n",
    "        lang = 'en'"
   ]
  },
  {
   "cell_type": "code",
   "execution_count": 41,
   "id": "8d074fd9",
   "metadata": {},
   "outputs": [
    {
     "name": "stdout",
     "output_type": "stream",
     "text": [
      "en\n",
      "Would you like to speak Russian (Y/N): Y\n",
      "ru\n"
     ]
    }
   ],
   "source": [
    "lang = 'en'\n",
    "print(lang)\n",
    "set_lang()\n",
    "print(lang)"
   ]
  },
  {
   "cell_type": "markdown",
   "id": "d5e9d1e0",
   "metadata": {},
   "source": [
    "Now it's working!\n",
    "\n",
    "## Passing arguments\n",
    "\n",
    "There are different ways to pass arguments to a function. One of them we are already familiar with:"
   ]
  },
  {
   "cell_type": "code",
   "execution_count": 42,
   "id": "5a3a5557",
   "metadata": {},
   "outputs": [],
   "source": [
    "def hello(name, title): \n",
    "    print(\"Hello\", title, name)"
   ]
  },
  {
   "cell_type": "code",
   "execution_count": 43,
   "id": "9b985259",
   "metadata": {},
   "outputs": [
    {
     "name": "stdout",
     "output_type": "stream",
     "text": [
      "Hello Mr. Potter\n"
     ]
    }
   ],
   "source": [
    "hello(\"Potter\", \"Mr.\")"
   ]
  },
  {
   "cell_type": "markdown",
   "id": "a4ec8568",
   "metadata": {},
   "source": [
    "In some cases, we want some arguments to be omitted, for example, we want to be able to call the `hello()` function defined above without specifying `title`. In this case, we will now get an error:"
   ]
  },
  {
   "cell_type": "code",
   "execution_count": 45,
   "id": "3a96983b",
   "metadata": {},
   "outputs": [
    {
     "ename": "TypeError",
     "evalue": "hello() missing 1 required positional argument: 'title'",
     "output_type": "error",
     "traceback": [
      "\u001b[0;31m---------------------------------------------------------------------------\u001b[0m",
      "\u001b[0;31mTypeError\u001b[0m                                 Traceback (most recent call last)",
      "\u001b[0;32m<ipython-input-45-4266b7e1b9aa>\u001b[0m in \u001b[0;36m<module>\u001b[0;34m\u001b[0m\n\u001b[0;32m----> 1\u001b[0;31m \u001b[0mhello\u001b[0m\u001b[0;34m(\u001b[0m\u001b[0;34m\"Harry\"\u001b[0m\u001b[0;34m)\u001b[0m\u001b[0;34m\u001b[0m\u001b[0;34m\u001b[0m\u001b[0m\n\u001b[0m",
      "\u001b[0;31mTypeError\u001b[0m: hello() missing 1 required positional argument: 'title'"
     ]
    }
   ],
   "source": [
    "hello(\"Harry\") # error"
   ]
  },
  {
   "cell_type": "markdown",
   "id": "347b2b31",
   "metadata": {},
   "source": [
    "This is not surprising: we said that the `hello()` function should use the `title` argument but did not pass it – what value then to use? To overcome this difficulty uses the default values."
   ]
  },
  {
   "cell_type": "code",
   "execution_count": 46,
   "id": "b3a20944",
   "metadata": {},
   "outputs": [
    {
     "name": "stdout",
     "output_type": "stream",
     "text": [
      "Hello  Harry\n"
     ]
    }
   ],
   "source": [
    "def hello(name, title=\"\"): \n",
    "    print(\"Hello\", title, name)\n",
    "hello(\"Harry\")"
   ]
  },
  {
   "cell_type": "code",
   "execution_count": 47,
   "id": "bbea54e3",
   "metadata": {},
   "outputs": [
    {
     "name": "stdout",
     "output_type": "stream",
     "text": [
      "Hello Mrs. Smith\n"
     ]
    }
   ],
   "source": [
    "hello(\"Smith\", \"Mrs.\")"
   ]
  },
  {
   "cell_type": "markdown",
   "id": "3f092d91",
   "metadata": {},
   "source": [
    "Arguments can be passed by specifying their names:"
   ]
  },
  {
   "cell_type": "code",
   "execution_count": 48,
   "id": "e90ce7a5",
   "metadata": {},
   "outputs": [
    {
     "name": "stdout",
     "output_type": "stream",
     "text": [
      "Hello Mr. Smith\n"
     ]
    }
   ],
   "source": [
    "hello(\"Smith\", title=\"Mr.\")"
   ]
  },
  {
   "cell_type": "code",
   "execution_count": 49,
   "id": "67019a28",
   "metadata": {},
   "outputs": [
    {
     "name": "stdout",
     "output_type": "stream",
     "text": [
      "Hello Mr. Smith\n"
     ]
    }
   ],
   "source": [
    "hello(name=\"Smith\", title=\"Mr.\")"
   ]
  },
  {
   "cell_type": "markdown",
   "id": "a3f9c30c",
   "metadata": {},
   "source": [
    "In this case, the order will be unimportant."
   ]
  },
  {
   "cell_type": "code",
   "execution_count": 50,
   "id": "b98b561d",
   "metadata": {},
   "outputs": [
    {
     "name": "stdout",
     "output_type": "stream",
     "text": [
      "Hello Mr. Smith\n"
     ]
    }
   ],
   "source": [
    " hello(title=\"Mr.\", name=\"Smith\")"
   ]
  },
  {
   "cell_type": "markdown",
   "id": "4dc3211c",
   "metadata": {},
   "source": [
    "There are also functions that take an unlimited number of arguments. For example the `print()` function behaves like this."
   ]
  },
  {
   "cell_type": "code",
   "execution_count": 51,
   "id": "94ced21c",
   "metadata": {},
   "outputs": [
    {
     "name": "stdout",
     "output_type": "stream",
     "text": [
      "8 7 5 hello 8\n"
     ]
    }
   ],
   "source": [
    "print(8, 7, 5, 'hello', 8)"
   ]
  },
  {
   "cell_type": "markdown",
   "id": "aceb58c0",
   "metadata": {},
   "source": [
    "How it works? Something like this:"
   ]
  },
  {
   "cell_type": "code",
   "execution_count": 52,
   "id": "b6c7aeb3",
   "metadata": {},
   "outputs": [],
   "source": [
    "def my_print(*args): \n",
    "    for x in args:\n",
    "        print(x)"
   ]
  },
  {
   "cell_type": "code",
   "execution_count": 53,
   "id": "5dcbab4d",
   "metadata": {},
   "outputs": [
    {
     "name": "stdout",
     "output_type": "stream",
     "text": [
      "6\n",
      "8\n",
      "9\n",
      "hello\n",
      "88\n",
      "55\n"
     ]
    }
   ],
   "source": [
    "my_print(6, 8, 9, 'hello', 88, 55)"
   ]
  },
  {
   "cell_type": "markdown",
   "id": "3db91bb3",
   "metadata": {},
   "source": [
    "Note the asterisk before `args` in the function signature. Let's take a closer look at how this code works:"
   ]
  },
  {
   "cell_type": "code",
   "execution_count": 54,
   "id": "947c9489",
   "metadata": {},
   "outputs": [
    {
     "name": "stdout",
     "output_type": "stream",
     "text": [
      "(1, 2, 3, 'hello')\n"
     ]
    }
   ],
   "source": [
    "def test(*args): \n",
    "    print(args)\n",
    "test(1, 2, 3, 'hello')"
   ]
  },
  {
   "cell_type": "markdown",
   "id": "97ec8f1b",
   "metadata": {},
   "source": [
    "It turns out that `args` now contains a so named *tuple*, consisting of the elements that we passed to the function.\n",
    "\n",
    "### Retreat: tuples\n",
    "\n",
    "The tuple is almost the same as a list only its elements are immutable. It is denoted by parentheses."
   ]
  },
  {
   "cell_type": "code",
   "execution_count": 55,
   "id": "133a048a",
   "metadata": {},
   "outputs": [
    {
     "name": "stdout",
     "output_type": "stream",
     "text": [
      "3\n",
      "(2, 3)\n"
     ]
    }
   ],
   "source": [
    "t = (2,3, 5, 1)\n",
    "print(t[1])\n",
    "print(t[0:2])"
   ]
  },
  {
   "cell_type": "code",
   "execution_count": 56,
   "id": "dc3314ad",
   "metadata": {},
   "outputs": [
    {
     "name": "stdout",
     "output_type": "stream",
     "text": [
      "2\n",
      "3\n",
      "5\n",
      "1\n"
     ]
    }
   ],
   "source": [
    "for x in t: \n",
    "    print(x)"
   ]
  },
  {
   "cell_type": "code",
   "execution_count": 57,
   "id": "0cda91eb",
   "metadata": {},
   "outputs": [
    {
     "ename": "TypeError",
     "evalue": "'tuple' object does not support item assignment",
     "output_type": "error",
     "traceback": [
      "\u001b[0;31m---------------------------------------------------------------------------\u001b[0m",
      "\u001b[0;31mTypeError\u001b[0m                                 Traceback (most recent call last)",
      "\u001b[0;32m<ipython-input-57-88963aa635fa>\u001b[0m in \u001b[0;36m<module>\u001b[0;34m\u001b[0m\n\u001b[0;32m----> 1\u001b[0;31m \u001b[0mt\u001b[0m\u001b[0;34m[\u001b[0m\u001b[0;36m0\u001b[0m\u001b[0;34m]\u001b[0m \u001b[0;34m=\u001b[0m \u001b[0;36m10\u001b[0m\u001b[0;34m\u001b[0m\u001b[0;34m\u001b[0m\u001b[0m\n\u001b[0m",
      "\u001b[0;31mTypeError\u001b[0m: 'tuple' object does not support item assignment"
     ]
    }
   ],
   "source": [
    "t[0] = 10 # error"
   ]
  },
  {
   "cell_type": "code",
   "execution_count": 58,
   "id": "f76a7aab",
   "metadata": {},
   "outputs": [
    {
     "ename": "AttributeError",
     "evalue": "'tuple' object has no attribute 'append'",
     "output_type": "error",
     "traceback": [
      "\u001b[0;31m---------------------------------------------------------------------------\u001b[0m",
      "\u001b[0;31mAttributeError\u001b[0m                            Traceback (most recent call last)",
      "\u001b[0;32m<ipython-input-58-6e6065ecb21b>\u001b[0m in \u001b[0;36m<module>\u001b[0;34m\u001b[0m\n\u001b[0;32m----> 1\u001b[0;31m \u001b[0mt\u001b[0m\u001b[0;34m.\u001b[0m\u001b[0mappend\u001b[0m\u001b[0;34m(\u001b[0m\u001b[0;36m1\u001b[0m\u001b[0;34m)\u001b[0m \u001b[0;31m# error\u001b[0m\u001b[0;34m\u001b[0m\u001b[0;34m\u001b[0m\u001b[0m\n\u001b[0m",
      "\u001b[0;31mAttributeError\u001b[0m: 'tuple' object has no attribute 'append'"
     ]
    }
   ],
   "source": [
    "t.append(1) # error"
   ]
  },
  {
   "cell_type": "markdown",
   "id": "e387cea5",
   "metadata": {},
   "source": [
    "Just because we can't change a tuple doesn't mean we can't redefine the `t` variable:"
   ]
  },
  {
   "cell_type": "code",
   "execution_count": 59,
   "id": "8e2754fc",
   "metadata": {},
   "outputs": [],
   "source": [
    "t = (8, 1, 2, 3)"
   ]
  },
  {
   "cell_type": "code",
   "execution_count": 60,
   "id": "1ab2cf84",
   "metadata": {},
   "outputs": [
    {
     "data": {
      "text/plain": [
       "(8, 1, 2, 3)"
      ]
     },
     "execution_count": 60,
     "metadata": {},
     "output_type": "execute_result"
    }
   ],
   "source": [
    "t"
   ]
  },
  {
   "cell_type": "markdown",
   "id": "32714b31",
   "metadata": {},
   "source": [
    "We can also convert lists to tuples and vice versa."
   ]
  },
  {
   "cell_type": "code",
   "execution_count": 61,
   "id": "002e91af",
   "metadata": {},
   "outputs": [
    {
     "name": "stdout",
     "output_type": "stream",
     "text": [
      "[1, 2, 3]\n",
      "(1, 2, 3)\n"
     ]
    }
   ],
   "source": [
    "print( list( (1, 2, 3) ) )\n",
    "print( tuple( [1, 2, 3] ) )"
   ]
  },
  {
   "cell_type": "markdown",
   "id": "72c952fb",
   "metadata": {},
   "source": [
    "### Returning to the functions\n",
    "\n",
    "Thus the asterisk in the signature seems to put additional parentheses around the arguments. For example the following two calls lead to the same results:"
   ]
  },
  {
   "cell_type": "code",
   "execution_count": 62,
   "id": "eaadeeaa",
   "metadata": {},
   "outputs": [
    {
     "name": "stdout",
     "output_type": "stream",
     "text": [
      "(1, 2, 3)\n",
      "(1, 2, 3)\n"
     ]
    }
   ],
   "source": [
    "def test1(*args): \n",
    "    print(args)\n",
    "test1(1, 2, 3)\n",
    "\n",
    "def test2(args): \n",
    "    print(args)\n",
    "test2( (1, 2, 3) )"
   ]
  },
  {
   "cell_type": "markdown",
   "id": "1131d864",
   "metadata": {},
   "source": [
    "We can combine list variables and regular variables (iff there is only one variable with an asterisk):"
   ]
  },
  {
   "cell_type": "code",
   "execution_count": 63,
   "id": "e6cce392",
   "metadata": {},
   "outputs": [],
   "source": [
    "def my_print(sep, *args): \n",
    "    for x in args:\n",
    "        print(x, end = sep)"
   ]
  },
  {
   "cell_type": "code",
   "execution_count": 64,
   "id": "11af4ae3",
   "metadata": {},
   "outputs": [
    {
     "name": "stdout",
     "output_type": "stream",
     "text": [
      "7----8----9----hello----"
     ]
    }
   ],
   "source": [
    "my_print('----', 7, 8, 9, 'hello')"
   ]
  }
 ],
 "metadata": {
  "kernelspec": {
   "display_name": "Python 3",
   "language": "python",
   "name": "python3"
  },
  "language_info": {
   "codemirror_mode": {
    "name": "ipython",
    "version": 3
   },
   "file_extension": ".py",
   "mimetype": "text/x-python",
   "name": "python",
   "nbconvert_exporter": "python",
   "pygments_lexer": "ipython3",
   "version": "3.9.5"
  }
 },
 "nbformat": 4,
 "nbformat_minor": 5
}
