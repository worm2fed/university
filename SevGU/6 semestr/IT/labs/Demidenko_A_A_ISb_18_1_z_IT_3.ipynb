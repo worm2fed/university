{
 "cells": [
  {
   "cell_type": "markdown",
   "id": "f0a3fe4c",
   "metadata": {},
   "source": [
    "# Information technologies\n",
    "\n",
    "Student: Demidenko A. A., group IS/b-18-1-z\n",
    "\n",
    "\n",
    "## Lists input-output\n",
    "\n",
    "### Converting string to list\n",
    "\n",
    "Lets take string of words separated by spaces (can be more than one) and symbols at the end of string."
   ]
  },
  {
   "cell_type": "code",
   "execution_count": 10,
   "id": "1db5a8c9",
   "metadata": {},
   "outputs": [
    {
     "name": "stdout",
     "output_type": "stream",
     "text": [
      "hello world    this is    a\n",
      "test\n"
     ]
    }
   ],
   "source": [
    "s = \"hello world    this is    a\\ntest\"\n",
    "print(s)"
   ]
  },
  {
   "cell_type": "markdown",
   "id": "b8e5cc4a",
   "metadata": {},
   "source": [
    "Whether we want to work with separated words of this string we should split it, in other words wo should get a list consists of this words. To do this we can use `split()` method."
   ]
  },
  {
   "cell_type": "code",
   "execution_count": 3,
   "id": "94839f47",
   "metadata": {},
   "outputs": [
    {
     "data": {
      "text/plain": [
       "['hello', 'world', 'this', 'is', 'a', 'test']"
      ]
     },
     "execution_count": 3,
     "metadata": {},
     "output_type": "execute_result"
    }
   ],
   "source": [
    "s.split()"
   ]
  },
  {
   "cell_type": "markdown",
   "id": "255d168f",
   "metadata": {},
   "source": [
    "So, we've got exactly we wanted. Notice, that delimiters in this case is whitespaces (one or more) and also any *whitespace symbols* which includes the tab character (we haven't it) and new line symbol `\\n`. Delimiters doesn't goes to resulting list.\n",
    "\n",
    "**Important!** `split()` method doesn't changes a string (generaly, we can't change a string at all):"
   ]
  },
  {
   "cell_type": "code",
   "execution_count": 11,
   "id": "3ae9672f",
   "metadata": {},
   "outputs": [
    {
     "name": "stdout",
     "output_type": "stream",
     "text": [
      "hello world    this is    a\n",
      "test\n"
     ]
    }
   ],
   "source": [
    "s = \"hello world    this is    a\\ntest\"\n",
    "s.split()\n",
    "print(s)"
   ]
  },
  {
   "cell_type": "markdown",
   "id": "0b45a3e2",
   "metadata": {},
   "source": [
    "In upper code the second string doesn't makes any effect - we've created a list and immideatly forget it and the string remained unchanged. If you want to do smth with list you've got after `split()` apply and not just admire and forget it forever, you'll need to save it as a variable:"
   ]
  },
  {
   "cell_type": "code",
   "execution_count": 6,
   "id": "c443f3e3",
   "metadata": {},
   "outputs": [
    {
     "name": "stdout",
     "output_type": "stream",
     "text": [
      "hello\n",
      "world\n",
      "this\n",
      "is\n",
      "a\n",
      "test\n"
     ]
    }
   ],
   "source": [
    "words = s.split()\n",
    "# now s.split() result is saved in a words variable  \n",
    "for word in words:\n",
    "    print(word)"
   ]
  },
  {
   "cell_type": "markdown",
   "id": "c46fc256",
   "metadata": {},
   "source": [
    "`split()` method has optional parameter - delimiter. If you specify it, than a string will be splited by this delimiter."
   ]
  },
  {
   "cell_type": "code",
   "execution_count": 12,
   "id": "4b39879b",
   "metadata": {},
   "outputs": [
    {
     "data": {
      "text/plain": [
       "['hello world', 'this is', 'a\\ntest']"
      ]
     },
     "execution_count": 12,
     "metadata": {},
     "output_type": "execute_result"
    }
   ],
   "source": [
    "s.split(\"    \")"
   ]
  },
  {
   "cell_type": "markdown",
   "id": "397299a5",
   "metadata": {},
   "source": [
    "We've passed four whitespaces as a delimiter and now our string is splitting by it, and one whitespace or new line symbol not perceived as a delimiter.\n",
    "\n",
    "Assume we want to enter several numbers separated by comma and print each one increased by one. We can try this code:"
   ]
  },
  {
   "cell_type": "code",
   "execution_count": 21,
   "id": "81d3dfe5",
   "metadata": {},
   "outputs": [
    {
     "name": "stdout",
     "output_type": "stream",
     "text": [
      "Enter several numbers separated by comma: 1,2,3\n"
     ]
    },
    {
     "ename": "TypeError",
     "evalue": "can only concatenate str (not \"int\") to str",
     "output_type": "error",
     "traceback": [
      "\u001b[0;31m---------------------------------------------------------------------------\u001b[0m",
      "\u001b[0;31mTypeError\u001b[0m                                 Traceback (most recent call last)",
      "\u001b[0;32m<ipython-input-21-a9b4752547a2>\u001b[0m in \u001b[0;36m<module>\u001b[0;34m\u001b[0m\n\u001b[1;32m      2\u001b[0m \u001b[0melements\u001b[0m \u001b[0;34m=\u001b[0m \u001b[0ms\u001b[0m\u001b[0;34m.\u001b[0m\u001b[0msplit\u001b[0m\u001b[0;34m(\u001b[0m\u001b[0;34m\",\"\u001b[0m\u001b[0;34m)\u001b[0m\u001b[0;34m\u001b[0m\u001b[0;34m\u001b[0m\u001b[0m\n\u001b[1;32m      3\u001b[0m \u001b[0;32mfor\u001b[0m \u001b[0mn\u001b[0m \u001b[0;32min\u001b[0m \u001b[0melements\u001b[0m\u001b[0;34m:\u001b[0m\u001b[0;34m\u001b[0m\u001b[0;34m\u001b[0m\u001b[0m\n\u001b[0;32m----> 4\u001b[0;31m     \u001b[0mprint\u001b[0m\u001b[0;34m(\u001b[0m\u001b[0mn\u001b[0m \u001b[0;34m+\u001b[0m \u001b[0;36m1\u001b[0m\u001b[0;34m)\u001b[0m\u001b[0;34m\u001b[0m\u001b[0;34m\u001b[0m\u001b[0m\n\u001b[0m",
      "\u001b[0;31mTypeError\u001b[0m: can only concatenate str (not \"int\") to str"
     ]
    }
   ],
   "source": [
    "s = input(\"Enter several numbers separated by comma: \")\n",
    "elements = s.split(\",\")\n",
    "for n in elements:\n",
    "    print(n + 1)"
   ]
  },
  {
   "cell_type": "markdown",
   "id": "0eff7d7c",
   "metadata": {},
   "source": [
    "It's not hard to guess it's not working: after splitting the string we've got a list of strings. To convert this strings to numbers we have to use `int()`. Generaly, there are methods which allows quite easy convert all list elements to numbers, but we haven't learned it yet. Lets handle every elemnt separately in loop."
   ]
  },
  {
   "cell_type": "code",
   "execution_count": 22,
   "id": "9e854ea4",
   "metadata": {},
   "outputs": [
    {
     "name": "stdout",
     "output_type": "stream",
     "text": [
      "Enter several numbers separated by comma: 1,2,3\n",
      "2\n",
      "3\n",
      "4\n"
     ]
    }
   ],
   "source": [
    "s = input(\"Enter several numbers separated by comma: \")\n",
    "elements = s.split(\",\")\n",
    "for n in elements:\n",
    "    n = int(n)\n",
    "    print(n + 1)"
   ]
  },
  {
   "cell_type": "markdown",
   "id": "1e998276",
   "metadata": {},
   "source": [
    "Now it's working!\n",
    "\n",
    "### Convert list to string\n",
    "\n",
    "Now, lets solve reverse problem: we have a list and we want to print it in some form. There are different ways to do this. For example, we can just print it:"
   ]
  },
  {
   "cell_type": "code",
   "execution_count": 15,
   "id": "e60269e7",
   "metadata": {},
   "outputs": [
    {
     "name": "stdout",
     "output_type": "stream",
     "text": [
      "['one', 'two', 'three']\n"
     ]
    }
   ],
   "source": [
    "elements = [\"one\", \"two\", \"three\"]\n",
    "print(elements)"
   ]
  },
  {
   "cell_type": "markdown",
   "id": "5ec4b980",
   "metadata": {},
   "source": [
    "But elements here in parentheses and every string wrapped by quotation marks. We can print it element by elemnt in loop:"
   ]
  },
  {
   "cell_type": "code",
   "execution_count": 16,
   "id": "b2a5a092",
   "metadata": {},
   "outputs": [
    {
     "name": "stdout",
     "output_type": "stream",
     "text": [
      "one\n",
      "two\n",
      "three\n"
     ]
    }
   ],
   "source": [
    "for el in elements:\n",
    "    print(el)"
   ]
  },
  {
   "cell_type": "markdown",
   "id": "c80c61e1",
   "metadata": {},
   "source": [
    "So it's print it in a column because `print()` by default adds a newline character `\\n` at the end of each output line. If we want to output the list items in some other way, for example in a line but without parentheses, commas and quotation marks, then we need to use other methods.\n",
    "\n",
    "The first of them is the use of the `join()` method."
   ]
  },
  {
   "cell_type": "code",
   "execution_count": 17,
   "id": "c112ca5b",
   "metadata": {},
   "outputs": [
    {
     "name": "stdout",
     "output_type": "stream",
     "text": [
      "one two three\n"
     ]
    }
   ],
   "source": [
    "print(\" \".join(elements))"
   ]
  },
  {
   "cell_type": "code",
   "execution_count": 18,
   "id": "622ad1c7",
   "metadata": {},
   "outputs": [
    {
     "name": "stdout",
     "output_type": "stream",
     "text": [
      "one:two:three\n"
     ]
    }
   ],
   "source": [
    "# we can build string with different symbols\n",
    "print(\":\".join(elements))"
   ]
  },
  {
   "cell_type": "code",
   "execution_count": 19,
   "id": "773b466f",
   "metadata": {},
   "outputs": [
    {
     "name": "stdout",
     "output_type": "stream",
     "text": [
      "one----two----three\n"
     ]
    }
   ],
   "source": [
    "print(\"----\".join(elements))"
   ]
  },
  {
   "cell_type": "markdown",
   "id": "c67f4099",
   "metadata": {},
   "source": [
    "This is covenint method but it has some restrictions: it requires all list elemnts be a strings. If there are another objects, it'll break."
   ]
  },
  {
   "cell_type": "code",
   "execution_count": 20,
   "id": "5ab3bc6b",
   "metadata": {},
   "outputs": [
    {
     "ename": "TypeError",
     "evalue": "sequence item 0: expected str instance, int found",
     "output_type": "error",
     "traceback": [
      "\u001b[0;31m---------------------------------------------------------------------------\u001b[0m",
      "\u001b[0;31mTypeError\u001b[0m                                 Traceback (most recent call last)",
      "\u001b[0;32m<ipython-input-20-639bcad789c7>\u001b[0m in \u001b[0;36m<module>\u001b[0;34m\u001b[0m\n\u001b[1;32m      1\u001b[0m \u001b[0mnumbers\u001b[0m \u001b[0;34m=\u001b[0m \u001b[0;34m[\u001b[0m\u001b[0;36m6\u001b[0m\u001b[0;34m,\u001b[0m \u001b[0;36m9\u001b[0m\u001b[0;34m,\u001b[0m \u001b[0;36m10\u001b[0m\u001b[0;34m]\u001b[0m\u001b[0;34m\u001b[0m\u001b[0;34m\u001b[0m\u001b[0m\n\u001b[0;32m----> 2\u001b[0;31m \u001b[0;34m\", \"\u001b[0m\u001b[0;34m.\u001b[0m\u001b[0mjoin\u001b[0m\u001b[0;34m(\u001b[0m\u001b[0mnumbers\u001b[0m\u001b[0;34m)\u001b[0m\u001b[0;34m\u001b[0m\u001b[0;34m\u001b[0m\u001b[0m\n\u001b[0m",
      "\u001b[0;31mTypeError\u001b[0m: sequence item 0: expected str instance, int found"
     ]
    }
   ],
   "source": [
    "numbers = [6, 9, 10]\n",
    "\", \".join(numbers)"
   ]
  },
  {
   "cell_type": "markdown",
   "id": "693fd861",
   "metadata": {},
   "source": [
    "We can work around this problem (later we'll talk about `map()` and list compehensions), but now lets discuss another way to printing lists based on `print()` function.\n",
    "\n",
    "Recall that if you pass a list to the `print()` function it will print it in square brackets separated by commas."
   ]
  },
  {
   "cell_type": "code",
   "execution_count": 23,
   "id": "be9d18bb",
   "metadata": {},
   "outputs": [
    {
     "name": "stdout",
     "output_type": "stream",
     "text": [
      "[6, 9, 10]\n"
     ]
    }
   ],
   "source": [
    "print(numbers)"
   ]
  },
  {
   "cell_type": "markdown",
   "id": "cdaf7aa2",
   "metadata": {},
   "source": [
    "And if you pass separated list elements, it'll print it without parentheses separate it with whitespaces (generally, with any simbols, you can set it with `sep` param)."
   ]
  },
  {
   "cell_type": "code",
   "execution_count": 24,
   "id": "1969164f",
   "metadata": {},
   "outputs": [
    {
     "name": "stdout",
     "output_type": "stream",
     "text": [
      "6 9 10\n"
     ]
    }
   ],
   "source": [
    "print(numbers[0], numbers[1], numbers[2])"
   ]
  },
  {
   "cell_type": "markdown",
   "id": "246c46ba",
   "metadata": {},
   "source": [
    "The line above gives the result we wanted but it will only work if there are exactly three elements in the list. If there are more elements only three will be output. If there are fewer then an error will occur. Fortunately in Python there is a construction that allows\n",
    "you to \"strip\" the list pass all its elements to some function separated by a comma. This is done with the help of an asterisk (`*`)."
   ]
  },
  {
   "cell_type": "code",
   "execution_count": 25,
   "id": "9ecdcd4a",
   "metadata": {},
   "outputs": [
    {
     "name": "stdout",
     "output_type": "stream",
     "text": [
      "6 9 10\n"
     ]
    }
   ],
   "source": [
    "print(*numbers)"
   ]
  },
  {
   "cell_type": "markdown",
   "id": "8ba45b15",
   "metadata": {},
   "source": [
    "The asterisk removes the square brackets around the list items:"
   ]
  },
  {
   "cell_type": "code",
   "execution_count": 26,
   "id": "364860ec",
   "metadata": {},
   "outputs": [
    {
     "name": "stdout",
     "output_type": "stream",
     "text": [
      "5 8 9 11 Hello\n"
     ]
    }
   ],
   "source": [
    "print(*[5, 8, 9, 11, \"Hello\"])"
   ]
  },
  {
   "cell_type": "code",
   "execution_count": 27,
   "id": "15885b3b",
   "metadata": {},
   "outputs": [
    {
     "name": "stdout",
     "output_type": "stream",
     "text": [
      "5 8 9 11 Hello\n"
     ]
    }
   ],
   "source": [
    "print(5, 8, 9, 11, \"Hello\")"
   ]
  },
  {
   "cell_type": "markdown",
   "id": "6f36f87c",
   "metadata": {},
   "source": [
    "If you want to use another separator instead of a space then this is also possible:"
   ]
  },
  {
   "cell_type": "code",
   "execution_count": 28,
   "id": "a188d6f2",
   "metadata": {},
   "outputs": [
    {
     "name": "stdout",
     "output_type": "stream",
     "text": [
      "6, 9, 10\n"
     ]
    }
   ],
   "source": [
    "print(*numbers, sep=', ')"
   ]
  },
  {
   "cell_type": "markdown",
   "id": "0800831d",
   "metadata": {},
   "source": [
    "### Strings and slices\n",
    "\n",
    "Strings can behave almost like lists. For example you can access individual string elements to separate characters or make slices."
   ]
  },
  {
   "cell_type": "code",
   "execution_count": 30,
   "id": "fb3f7ef0",
   "metadata": {},
   "outputs": [],
   "source": [
    "s = \"This is a test\""
   ]
  },
  {
   "cell_type": "code",
   "execution_count": 31,
   "id": "6e5519ba",
   "metadata": {},
   "outputs": [
    {
     "data": {
      "text/plain": [
       "'s'"
      ]
     },
     "execution_count": 31,
     "metadata": {},
     "output_type": "execute_result"
    }
   ],
   "source": [
    "s[6]"
   ]
  },
  {
   "cell_type": "code",
   "execution_count": 32,
   "id": "7350cf9c",
   "metadata": {},
   "outputs": [
    {
     "data": {
      "text/plain": [
       "'i'"
      ]
     },
     "execution_count": 32,
     "metadata": {},
     "output_type": "execute_result"
    }
   ],
   "source": [
    "s[5]"
   ]
  },
  {
   "cell_type": "code",
   "execution_count": 33,
   "id": "a93c62ff",
   "metadata": {},
   "outputs": [
    {
     "data": {
      "text/plain": [
       "'s is '"
      ]
     },
     "execution_count": 33,
     "metadata": {},
     "output_type": "execute_result"
    }
   ],
   "source": [
    "s[3:8]"
   ]
  },
  {
   "cell_type": "markdown",
   "id": "387f15f6",
   "metadata": {},
   "source": [
    "Later we will talk more about the lines (this is another big story).\n",
    "\n",
    "## Algorithms with loops\n",
    "\n",
    "Let's look at an example of an algorithm that uses a loop.\n",
    "\n",
    "Recall how last time we searched for Fibonacci numbers.\n",
    "\n",
    "First we perform *initialization* - we set the initial values of the variables that we will need in the future. Initially we know the values of the first two Fibonacci numbers (these are ones); we will write them in variables and in the future we will store the next two found Fibonacci numbers necessary to find the next number."
   ]
  },
  {
   "cell_type": "code",
   "execution_count": 34,
   "id": "c88548dd",
   "metadata": {},
   "outputs": [],
   "source": [
    "# initialization (executes only once when algorithm starts)\n",
    "a = 1 # first number\n",
    "b = 1 # second number"
   ]
  },
  {
   "cell_type": "markdown",
   "id": "dec7a854",
   "metadata": {},
   "source": [
    "Then we are writing code that moves to the next number. We will execute it several times, and each time we'll get a new Fibonacci number."
   ]
  },
  {
   "cell_type": "code",
   "execution_count": 35,
   "id": "691f82de",
   "metadata": {},
   "outputs": [
    {
     "name": "stdout",
     "output_type": "stream",
     "text": [
      "2\n"
     ]
    }
   ],
   "source": [
    "c = a + b # found next number\n",
    "a = b # we do not need a anymore, but still need b\n",
    "b = c # remember computed value\n",
    "print(b)"
   ]
  },
  {
   "cell_type": "markdown",
   "id": "593f1038",
   "metadata": {},
   "source": [
    "By executing this cell several times we will get consecutive Fibonacci numbers.\n",
    "\n",
    "This approach works pretty well but if we had to find the 115 Fibonacci number we would be tormented by restarting the cell. Instead we use the `for` loop which will automatically execute the code snippet that calculates the next number as many times as we need. For example, 10:"
   ]
  },
  {
   "cell_type": "code",
   "execution_count": 36,
   "id": "4cf4c651",
   "metadata": {},
   "outputs": [
    {
     "name": "stdout",
     "output_type": "stream",
     "text": [
      "0 2\n",
      "1 3\n",
      "2 5\n",
      "3 8\n",
      "4 13\n",
      "5 21\n",
      "6 34\n",
      "7 55\n",
      "8 89\n",
      "9 144\n"
     ]
    }
   ],
   "source": [
    "# initialization (executes only once when algorithm starts)\n",
    "a = 1 # first number\n",
    "b = 1 # second number\n",
    "for i in range(10):\n",
    "    # loop body: will be executed 10 times\n",
    "    c = a + b\n",
    "    a = b \n",
    "    b = c \n",
    "    print(i, c)"
   ]
  },
  {
   "cell_type": "markdown",
   "id": "3c44294b",
   "metadata": {},
   "source": [
    "Another example, let's say we would like not to display found Fibonacci numbers on the screen and record them in some list. For this slightly modify the above code instead of `print()` will need to substitute a command that will add the number found in some list. However, to add something to this list, we must create it in advance. Initially, it may be empty - such a list creates by empty brackets."
   ]
  },
  {
   "cell_type": "code",
   "execution_count": 37,
   "id": "423c17c7",
   "metadata": {},
   "outputs": [
    {
     "name": "stdout",
     "output_type": "stream",
     "text": [
      "[2, 3, 5, 8, 13, 21, 34, 55, 89, 144, 233, 377, 610, 987, 1597, 2584, 4181, 6765, 10946, 17711, 28657, 46368, 75025, 121393, 196418]\n"
     ]
    }
   ],
   "source": [
    "# initialization (executes only once when algorithm starts)\n",
    "a = 1 # first number\n",
    "b = 1 # second number\n",
    "fib = [] # created empty list\n",
    "\n",
    "for i in range(25):\n",
    "    c = a + b\n",
    "    a = b \n",
    "    b = c \n",
    "    fib.append(b) # record elemnt to the end of fib\n",
    "\n",
    "print(fib)"
   ]
  },
  {
   "cell_type": "markdown",
   "id": "99f5d6e6",
   "metadata": {},
   "source": [
    "## Checking conditions\n",
    "\n",
    "In the process of program execution sometimes is required to perform a particular piece of code, depending on some conditions. For example, if a user has entered wrong data that was requested (we wanted a positive number and got a negative), then we have to print the error and ask\n",
    "to enter the data again. Solution to this problem is broken into a few steps: first, we need to check some condition and then depending on the result of this test to choose which code to execute. Let's start with test conditions."
   ]
  },
  {
   "cell_type": "code",
   "execution_count": 38,
   "id": "a0171bd4",
   "metadata": {},
   "outputs": [
    {
     "data": {
      "text/plain": [
       "True"
      ]
     },
     "execution_count": 38,
     "metadata": {},
     "output_type": "execute_result"
    }
   ],
   "source": [
    "6 < 8"
   ]
  },
  {
   "cell_type": "markdown",
   "id": "6aacd65f",
   "metadata": {},
   "source": [
    "Here we've asked \"whether it is true that 6 less than 8?\". \"Truly is\"  answered Python in his overseas language. The word `True` which he gave out is not just a word meaning \"truth\" but a special logical meaning. It is also named \"boolean\" (by name of the one of founders of mathematical logic [George Boole](https://en.wikipedia.org/wiki/George_Boole)). It consists only from two kinds: either `True` or `False`. The third is not given."
   ]
  },
  {
   "cell_type": "code",
   "execution_count": 39,
   "id": "595648f6",
   "metadata": {},
   "outputs": [
    {
     "data": {
      "text/plain": [
       "False"
      ]
     },
     "execution_count": 39,
     "metadata": {},
     "output_type": "execute_result"
    }
   ],
   "source": [
    "8 > 9"
   ]
  },
  {
   "cell_type": "markdown",
   "id": "a8678530",
   "metadata": {},
   "source": [
    "The result of the check can be written to a variable."
   ]
  },
  {
   "cell_type": "code",
   "execution_count": 40,
   "id": "4a6880f2",
   "metadata": {},
   "outputs": [],
   "source": [
    "condition = 6 < 8"
   ]
  },
  {
   "cell_type": "code",
   "execution_count": 41,
   "id": "6071ba9e",
   "metadata": {},
   "outputs": [
    {
     "data": {
      "text/plain": [
       "True"
      ]
     },
     "execution_count": 41,
     "metadata": {},
     "output_type": "execute_result"
    }
   ],
   "source": [
    "condition"
   ]
  },
  {
   "cell_type": "markdown",
   "id": "072606f7",
   "metadata": {},
   "source": [
    "Now that the condition variable is a boolean (`bool`)."
   ]
  },
  {
   "cell_type": "code",
   "execution_count": 42,
   "id": "f79a7b93",
   "metadata": {},
   "outputs": [
    {
     "data": {
      "text/plain": [
       "bool"
      ]
     },
     "execution_count": 42,
     "metadata": {},
     "output_type": "execute_result"
    }
   ],
   "source": [
    "type(condition)"
   ]
  },
  {
   "cell_type": "markdown",
   "id": "f44b4186",
   "metadata": {},
   "source": [
    "We can check the equality of two quantities. Whether it is true that 7 is equal to 7?"
   ]
  },
  {
   "cell_type": "code",
   "execution_count": 44,
   "id": "7982e231",
   "metadata": {},
   "outputs": [
    {
     "data": {
      "text/plain": [
       "True"
      ]
     },
     "execution_count": 44,
     "metadata": {},
     "output_type": "execute_result"
    }
   ],
   "source": [
    "7 == 7"
   ]
  },
  {
   "cell_type": "markdown",
   "id": "67b70104",
   "metadata": {},
   "source": [
    "Note that here you need to write the equality symbol twice because one equals sign is an assignment operation (\"assign what is on the right to what is on the left\") and the equality check operation is a completely different thing. For example:"
   ]
  },
  {
   "cell_type": "code",
   "execution_count": 46,
   "id": "5b49e68d",
   "metadata": {},
   "outputs": [],
   "source": [
    "a = 5 "
   ]
  },
  {
   "cell_type": "markdown",
   "id": "328bdf1c",
   "metadata": {},
   "source": [
    "We've put number 5 to a. Such an operations doesn't returns anything."
   ]
  },
  {
   "cell_type": "code",
   "execution_count": 47,
   "id": "a67aa5ed",
   "metadata": {},
   "outputs": [],
   "source": [
    "a = 7"
   ]
  },
  {
   "cell_type": "markdown",
   "id": "94b907f4",
   "metadata": {},
   "source": [
    "Now we put number 7 to a."
   ]
  },
  {
   "cell_type": "code",
   "execution_count": 49,
   "id": "2977517d",
   "metadata": {},
   "outputs": [
    {
     "data": {
      "text/plain": [
       "False"
      ]
     },
     "execution_count": 49,
     "metadata": {},
     "output_type": "execute_result"
    }
   ],
   "source": [
    "a == 5"
   ]
  },
  {
   "cell_type": "markdown",
   "id": "c87d48de",
   "metadata": {},
   "source": [
    "Now we've asked if it is true that a is equal to five. Got `False`.\n",
    "\n",
    "It must be said that the comparison works in a fairly reasonable way. For example, the number 7 and the number 7.0 are strictly speaking different objects (the first one is an integer and the second one is floating point number), but it's clear that as numbers they are the same object. So the comparison will output `True`."
   ]
  },
  {
   "cell_type": "code",
   "execution_count": 50,
   "id": "75a675e0",
   "metadata": {},
   "outputs": [
    {
     "data": {
      "text/plain": [
       "True"
      ]
     },
     "execution_count": 50,
     "metadata": {},
     "output_type": "execute_result"
    }
   ],
   "source": [
    "7 == 7.0"
   ]
  },
  {
   "cell_type": "markdown",
   "id": "ae734c6e",
   "metadata": {},
   "source": [
    "## If statement"
   ]
  },
  {
   "cell_type": "code",
   "execution_count": 51,
   "id": "abc28faa",
   "metadata": {},
   "outputs": [
    {
     "name": "stdout",
     "output_type": "stream",
     "text": [
      "Enter positive number: 4\n",
      "You've entered 4\n"
     ]
    }
   ],
   "source": [
    "a = int(input(\"Enter positive number: \"))\n",
    "if a < 0:\n",
    "    print(\"Error!\")\n",
    "    print(\"Number is not positive!\")\n",
    "print(\"You've entered\", a)"
   ]
  },
  {
   "cell_type": "markdown",
   "id": "1b372b28",
   "metadata": {},
   "source": [
    "You need to pay attention to several things: first, after `if` you have to specify a condition and after the condition a colon is necessarily placed (as in cycles), then there is a block of commands that are executed if the condition is `True`. As in cycles this block of commands must be indented. Commands that are not included in the block (in this case this is the last line) are executed in any case.\n",
    "\n",
    "Let's say we want to handle both situations separately: when the condition is met and when it is not. To do this we need to use `else` keyword."
   ]
  },
  {
   "cell_type": "code",
   "execution_count": 53,
   "id": "ff7f7f7b",
   "metadata": {},
   "outputs": [
    {
     "name": "stdout",
     "output_type": "stream",
     "text": [
      "Enter positive number: 4\n",
      "Very good!\n",
      "You've entered positive number!\n",
      "You've entered 4\n"
     ]
    }
   ],
   "source": [
    "a = int(input(\"Enter positive number: \"))\n",
    "if a < 0:\n",
    "    print(\"Error!\")\n",
    "    print(\"Number is not positive!\")\n",
    "else:\n",
    "    print(\"Very good!\")\n",
    "    print(\"You've entered positive number!\")\n",
    "print(\"You've entered\", a)"
   ]
  },
  {
   "cell_type": "markdown",
   "id": "3a679742",
   "metadata": {},
   "source": [
    "The `if-else` construction works as an alternative: either one code snippet is executed (after `if` - if the condition is true) or another (after `else` – if it is incorrect). Sometimes you need to check\n",
    "several conditions consecutively."
   ]
  },
  {
   "cell_type": "code",
   "execution_count": 54,
   "id": "bb000893",
   "metadata": {},
   "outputs": [
    {
     "name": "stdout",
     "output_type": "stream",
     "text": [
      "Enter some number: 3\n",
      "This is small number\n"
     ]
    }
   ],
   "source": [
    "a = int(input(\"Enter some number: \"))\n",
    "if a > 100:\n",
    "    print(\"This is very big number\")\n",
    "elif a > 10:\n",
    "    print(\"This is big number\")\n",
    "else:\n",
    "    print(\"This is small number\")"
   ]
  },
  {
   "cell_type": "markdown",
   "id": "2edeb0e6",
   "metadata": {},
   "source": [
    "Here the keyword `elif` is used which is a combination of the words `else` and `if`. The conditions are checked in turn starting from the first one as soon as one of the conditions is true the corresponding block is executed and the rest of the conditions are not checked.\n",
    "\n",
    "## Complicated conditions\n",
    "\n",
    "Let's say we need to check the fulfillment of several conditions. Say we want to get a number from 0 to 100 – numbers less than 0 or greater than 100 aren't satisfied. This could be done using several nested `if` statements, smth like this:"
   ]
  },
  {
   "cell_type": "code",
   "execution_count": 55,
   "id": "cfe08906",
   "metadata": {},
   "outputs": [
    {
     "name": "stdout",
     "output_type": "stream",
     "text": [
      "Please, enter number from 0 to 100: 4\n",
      "Thanks, I like your number\n"
     ]
    }
   ],
   "source": [
    "a = int(input(\"Please, enter number from 0 to 100: \"))\n",
    "if a <= 100:\n",
    "    if a >= 0:\n",
    "        print(\"Thanks, I like your number\")\n",
    "    else:\n",
    "        print(\"You are wrong, this number not in range from 0 to 100\")\n",
    "else:\n",
    "    print(\"You are wrong, this number not in range from 0 to 100\")"
   ]
  },
  {
   "cell_type": "markdown",
   "id": "dd8b5acb",
   "metadata": {},
   "source": [
    "This code is quite cumbersome, the line with the error message had to be copied twice. Not very well. It turns out that you can implement the same functionality easier:"
   ]
  },
  {
   "cell_type": "code",
   "execution_count": 56,
   "id": "f32a20ae",
   "metadata": {},
   "outputs": [
    {
     "name": "stdout",
     "output_type": "stream",
     "text": [
      "Please, enter number from 0 to 100: 101\n",
      "You are wrong, this number not in range from 0 to 100\n"
     ]
    }
   ],
   "source": [
    "a = int(input(\"Please, enter number from 0 to 100: \"))\n",
    "if a <= 100 and a >= 0:\n",
    "    print(\"Thanks, I like your number\")\n",
    "else:\n",
    "    print(\"You are wrong, this number not in range from 0 to 100\")"
   ]
  },
  {
   "cell_type": "markdown",
   "id": "203b2af1",
   "metadata": {},
   "source": [
    "Here we use the keyword `and` denoting the operation *logical AND*. It does the following: checks the left condition (in this case `a <= 100`), checks the right condition (`a >= 100`) and if both of these conditions are met (have the value `True`) then the result of executing `and` is `True`; if at least one of them is not met (has the value `False`), then the result of executing `and` is `False`. So we can check exactly the condition we are interested in.\n",
    "\n",
    "> Strictly speaking, if the left argument of `and` turns out to be a `False`, then the right one is not even calculated: why waste time if it is already clear that it is necessary to return a `False`?\n",
    "\n",
    "It's possible to rewrite this code in a different way using a boolean OR (`or`):"
   ]
  },
  {
   "cell_type": "code",
   "execution_count": 57,
   "id": "5939c9fa",
   "metadata": {},
   "outputs": [
    {
     "name": "stdout",
     "output_type": "stream",
     "text": [
      "Please, enter number from 0 to 100: 0\n",
      "Thanks, I like your number\n"
     ]
    }
   ],
   "source": [
    "a = int(input(\"Please, enter number from 0 to 100: \"))\n",
    "if a > 100 and a < 0:\n",
    "    print(\"You are wrong, this number not in range from 0 to 100\")\n",
    "else:\n",
    "    print(\"Thanks, I like your number\")"
   ]
  },
  {
   "cell_type": "markdown",
   "id": "80f7cb4d",
   "metadata": {},
   "source": [
    "The result of executing `or` is `True` if at least one argument is `True`. Finally there is a third logical operator – this is negation (`not`). It has only one argument and returns `True` if its argument is `False` and vice versa."
   ]
  },
  {
   "cell_type": "code",
   "execution_count": 59,
   "id": "1a6d4340",
   "metadata": {},
   "outputs": [
    {
     "name": "stdout",
     "output_type": "stream",
     "text": [
      "Please, enter number from 0 to 100: 999\n",
      "You are wrong, this number not in range from 0 to 100\n"
     ]
    }
   ],
   "source": [
    "a = int(input(\"Please, enter number from 0 to 100: \"))\n",
    "if not(a <= 100 and a >= 0):\n",
    "    print(\"You are wrong, this number not in range from 0 to 100\")\n",
    "else:\n",
    "    print(\"Thanks, I like your number\")"
   ]
  },
  {
   "cell_type": "markdown",
   "id": "d9d5e906",
   "metadata": {},
   "source": [
    "We can check how logical commands work by simply substituting `True` or `False` as arguments:"
   ]
  },
  {
   "cell_type": "code",
   "execution_count": 60,
   "id": "73051534",
   "metadata": {},
   "outputs": [
    {
     "data": {
      "text/plain": [
       "True"
      ]
     },
     "execution_count": 60,
     "metadata": {},
     "output_type": "execute_result"
    }
   ],
   "source": [
    "True or False"
   ]
  },
  {
   "cell_type": "code",
   "execution_count": 61,
   "id": "96e75ac2",
   "metadata": {},
   "outputs": [
    {
     "data": {
      "text/plain": [
       "False"
      ]
     },
     "execution_count": 61,
     "metadata": {},
     "output_type": "execute_result"
    }
   ],
   "source": [
    "False and True"
   ]
  },
  {
   "cell_type": "markdown",
   "id": "bd1c644d",
   "metadata": {},
   "source": [
    "Be or not to be?"
   ]
  },
  {
   "cell_type": "code",
   "execution_count": 65,
   "id": "58ac367a",
   "metadata": {},
   "outputs": [
    {
     "data": {
      "text/plain": [
       "True"
      ]
     },
     "execution_count": 65,
     "metadata": {},
     "output_type": "execute_result"
    }
   ],
   "source": [
    "to_be = False\n",
    "to_be or not to_be"
   ]
  },
  {
   "cell_type": "markdown",
   "id": "7b857dcc",
   "metadata": {},
   "source": [
    "What happens if `to_be` is set to `True`? Result is still `True`.\n",
    "\n",
    "## While cycle"
   ]
  },
  {
   "cell_type": "code",
   "execution_count": 66,
   "id": "0a9f02de",
   "metadata": {},
   "outputs": [
    {
     "name": "stdout",
     "output_type": "stream",
     "text": [
      "Enter number from 0 to 100: 999\n",
      "Wrong! This number not in range from 0 to 100\n",
      "Enter number from 0 to 100: 3\n",
      "Good\n"
     ]
    }
   ],
   "source": [
    "a = int(input(\"Enter number from 0 to 100: \"))\n",
    "while a > 100 or a < 0:\n",
    "    print(\"Wrong! This number not in range from 0 to 100\")\n",
    "    a = int(input(\"Enter number from 0 to 100: \"))\n",
    "print(\"Good\")"
   ]
  },
  {
   "cell_type": "markdown",
   "id": "4f60ec40",
   "metadata": {},
   "source": [
    "Another example is password verification:"
   ]
  },
  {
   "cell_type": "code",
   "execution_count": 67,
   "id": "8b24ce2d",
   "metadata": {},
   "outputs": [
    {
     "name": "stdout",
     "output_type": "stream",
     "text": [
      "Please, enter password: 3\n",
      "Access denied\n",
      "Please, enter password: ;ugliugliug\n",
      "Access granted\n"
     ]
    }
   ],
   "source": [
    "correct_passwd = ';ugliugliug'\n",
    "passwd = input(\"Please, enter password: \")\n",
    "while passwd != correct_passwd:\n",
    "    print(\"Access denied\")\n",
    "    passwd = input(\"Please, enter password: \")\n",
    "print(\"Access granted\")"
   ]
  },
  {
   "cell_type": "markdown",
   "id": "e8b86bda",
   "metadata": {},
   "source": [
    "This code is not very elegant because we have to write a line with `input()` twice. A situation in which we have to copy some lines of code usually means that a design error has been made. We can do it more elegantly with the `break` command – it allows to exit a loop. The following example also demonstrates an infinite loop: in theory\n",
    "`while True:` must be executed as long as `True` is `True` that is, forever. But we will exit earlier with `break`."
   ]
  },
  {
   "cell_type": "code",
   "execution_count": 68,
   "id": "6927f1a0",
   "metadata": {},
   "outputs": [
    {
     "name": "stdout",
     "output_type": "stream",
     "text": [
      "Please, enter password: 3\n",
      "Access denied\n",
      "Please, enter password: ;ugliugliug\n",
      "Access granted\n"
     ]
    }
   ],
   "source": [
    "correct_passwd = ';ugliugliug'\n",
    "while True:\n",
    "    passwd = input(\"Please, enter password: \")\n",
    "    if passwd == correct_passwd:\n",
    "        print(\"Access granted\")\n",
    "        break \n",
    "    else:\n",
    "        print(\"Access denied\")"
   ]
  },
  {
   "cell_type": "markdown",
   "id": "160ebe1f",
   "metadata": {},
   "source": [
    "The `break` command can be used to exit any loop. Here is an example for a `for` loop:"
   ]
  },
  {
   "cell_type": "code",
   "execution_count": 69,
   "id": "476459df",
   "metadata": {},
   "outputs": [
    {
     "name": "stdout",
     "output_type": "stream",
     "text": [
      "7\n",
      "9\n",
      "10\n",
      "7\n",
      "Negative number detected!!!!111111odin\n"
     ]
    }
   ],
   "source": [
    "numbers = [6, 8, 9, 6, -7, 9]\n",
    "for i in numbers:\n",
    "    if i < 0:\n",
    "        print(\"Negative number detected!!!!111111odin\")\n",
    "        break\n",
    "    print(i+1)"
   ]
  },
  {
   "cell_type": "markdown",
   "id": "0e96cb47",
   "metadata": {},
   "source": [
    "## Indeking list items\n",
    "\n",
    "As a small digression we will discuss such a problem: there is a list and we need to output its elements and their indexes. This problem could be solved like this:"
   ]
  },
  {
   "cell_type": "code",
   "execution_count": 70,
   "id": "95002245",
   "metadata": {},
   "outputs": [
    {
     "name": "stdout",
     "output_type": "stream",
     "text": [
      "0 7\n",
      "1 8\n",
      "2 9\n",
      "3 43\n"
     ]
    }
   ],
   "source": [
    "numbers = [7, 8, 9, 43]\n",
    "i = 0 # here we'll store index\n",
    "for n in numbers:\n",
    "    print(i, n)\n",
    "    i += 1\n",
    "    # this line is same with i = i + 1"
   ]
  },
  {
   "cell_type": "markdown",
   "id": "6bbdc891",
   "metadata": {},
   "source": [
    "Not the most elegant solution – we have to create some variable `i`, initialize it before entering the loop and do not forget to add one to it inside the loop.\n",
    "\n",
    "Another solution:"
   ]
  },
  {
   "cell_type": "code",
   "execution_count": 71,
   "id": "6d312a05",
   "metadata": {},
   "outputs": [
    {
     "name": "stdout",
     "output_type": "stream",
     "text": [
      "0 7\n",
      "1 8\n",
      "2 9\n",
      "3 43\n"
     ]
    }
   ],
   "source": [
    "numbers = [7, 8, 9, 43]\n",
    "for i in range(len(numbers)):\n",
    "    print (i, numbers[i])"
   ]
  },
  {
   "cell_type": "markdown",
   "id": "d9a7cd30",
   "metadata": {},
   "source": [
    "It is also not the height of elegance: here we have to write `numbers[i]` every time and in general clarity suffers: looking at the `for` loop it is not clear that we are going to iterate over the elements of the `numbers` list.\n",
    "\n",
    "The correct Python approach looks like this:"
   ]
  },
  {
   "cell_type": "code",
   "execution_count": 72,
   "id": "b903618b",
   "metadata": {},
   "outputs": [
    {
     "name": "stdout",
     "output_type": "stream",
     "text": [
      "2 7\n",
      "3 8\n",
      "4 9\n",
      "5 43\n"
     ]
    }
   ],
   "source": [
    "numbers = [7, 8, 9, 43]\n",
    "for i, n in enumerate(numbers, 2):\n",
    "    print(i, n)"
   ]
  },
  {
   "cell_type": "markdown",
   "id": "c546ab56",
   "metadata": {},
   "source": [
    "What have happened here? The main magic lies in the `enumerate()` command. Let's see how it works:"
   ]
  },
  {
   "cell_type": "code",
   "execution_count": 73,
   "id": "520dd038",
   "metadata": {},
   "outputs": [],
   "source": [
    "enum = list(enumerate(numbers))"
   ]
  },
  {
   "cell_type": "code",
   "execution_count": 74,
   "id": "2998b3dc",
   "metadata": {},
   "outputs": [
    {
     "data": {
      "text/plain": [
       "[(0, 7), (1, 8), (2, 9), (3, 43)]"
      ]
     },
     "execution_count": 74,
     "metadata": {},
     "output_type": "execute_result"
    }
   ],
   "source": [
    "enum"
   ]
  },
  {
   "cell_type": "markdown",
   "id": "f4412242",
   "metadata": {},
   "source": [
    "The result of executing `enumerate` returns a thing that behaves like a list whose elements are pairs of numbers (in fact these are tuples, `tuple` is immutable lists). In each pair the first number is an index and the second is an element of the original list.\n",
    "\n",
    "Then when executing `for` loop the list assignment mechanism is used. It works like this:"
   ]
  },
  {
   "cell_type": "code",
   "execution_count": 75,
   "id": "da084035",
   "metadata": {},
   "outputs": [],
   "source": [
    "a, b = (7, 9)"
   ]
  },
  {
   "cell_type": "code",
   "execution_count": 76,
   "id": "d759eef9",
   "metadata": {},
   "outputs": [
    {
     "name": "stdout",
     "output_type": "stream",
     "text": [
      "7\n",
      "9\n"
     ]
    }
   ],
   "source": [
    "print(a)\n",
    "print(b)"
   ]
  },
  {
   "cell_type": "markdown",
   "id": "f2db7581",
   "metadata": {},
   "source": [
    "If in the left part of the equal sign there are several variables separated by commas, and in the right part there is an object that behaves like a list and the number of its elements is equal to the number of variables, then the assignment goes element by element: the first element of the list goes to the first variable, the second - to the second, and so on."
   ]
  },
  {
   "cell_type": "code",
   "execution_count": 77,
   "id": "c41a54aa",
   "metadata": {},
   "outputs": [
    {
     "name": "stdout",
     "output_type": "stream",
     "text": [
      "3\n"
     ]
    }
   ],
   "source": [
    "a, b, c = (1, 2, 3)\n",
    "print(c)"
   ]
  },
  {
   "cell_type": "markdown",
   "id": "f9d15c4f",
   "metadata": {},
   "source": [
    "Now note that in the `for` loop we have two variables (separated by commas) as the loop variable. What happens when we get into the loop for the first time? `for` takes the first element from `enumerate(numbers)`. This is a pair of numbers:"
   ]
  },
  {
   "cell_type": "code",
   "execution_count": 78,
   "id": "1ed88d82",
   "metadata": {},
   "outputs": [
    {
     "data": {
      "text/plain": [
       "(0, 7)"
      ]
     },
     "execution_count": 78,
     "metadata": {},
     "output_type": "execute_result"
    }
   ],
   "source": [
    "enum[0]"
   ]
  },
  {
   "cell_type": "markdown",
   "id": "bd81834c",
   "metadata": {},
   "source": [
    "Now it equates this pair of numbers to a pair of variables `i` and `n`:"
   ]
  },
  {
   "cell_type": "code",
   "execution_count": 79,
   "id": "d18f1cf9",
   "metadata": {},
   "outputs": [],
   "source": [
    "i, n = enum[0]"
   ]
  },
  {
   "cell_type": "markdown",
   "id": "ffecf726",
   "metadata": {},
   "source": [
    "Now `i` stores 0 (index of the first `numbers` element) and `n` stores the first `numbers` element itself. And so on at each step `i` will store the corresponding index and `n` - the corresponding number.\n",
    "\n",
    "At the same time the result is much more elegant than the previous ones: there is no need to explicitly describe what is happening with `i` and the meaning of what is happening is clear when looking at the line with `for`."
   ]
  }
 ],
 "metadata": {
  "kernelspec": {
   "display_name": "Python 3",
   "language": "python",
   "name": "python3"
  },
  "language_info": {
   "codemirror_mode": {
    "name": "ipython",
    "version": 3
   },
   "file_extension": ".py",
   "mimetype": "text/x-python",
   "name": "python",
   "nbconvert_exporter": "python",
   "pygments_lexer": "ipython3",
   "version": "3.9.5"
  }
 },
 "nbformat": 4,
 "nbformat_minor": 5
}
