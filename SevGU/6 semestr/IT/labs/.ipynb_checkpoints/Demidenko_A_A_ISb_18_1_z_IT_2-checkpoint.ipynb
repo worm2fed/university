{
 "cells": [
  {
   "cell_type": "markdown",
   "id": "b8b1caca",
   "metadata": {},
   "source": [
    "# Programming on Python\n",
    "\n",
    "Student: Demidenko A. A., group IS/b-18-1-z\n",
    "\n",
    "\n",
    "## Lists and its operations \n",
    "\n",
    "List - is a data structure which stores a lot of elements at once."
   ]
  },
  {
   "cell_type": "code",
   "execution_count": 3,
   "id": "eb213b54",
   "metadata": {},
   "outputs": [],
   "source": [
    "numbers = [4, 8, 9, 2, 6] # list"
   ]
  },
  {
   "cell_type": "code",
   "execution_count": 4,
   "id": "11351f8b",
   "metadata": {},
   "outputs": [
    {
     "data": {
      "text/plain": [
       "[4, 8, 9, 2, 6]"
      ]
     },
     "execution_count": 4,
     "metadata": {},
     "output_type": "execute_result"
    }
   ],
   "source": [
    "numbers"
   ]
  },
  {
   "cell_type": "markdown",
   "id": "e5a8b6af",
   "metadata": {},
   "source": [
    "In list we can store not only numbers. For example, lets create list with strings."
   ]
  },
  {
   "cell_type": "code",
   "execution_count": 5,
   "id": "a6257bc3",
   "metadata": {},
   "outputs": [],
   "source": [
    "strings = [\"Hello\", \"World\", \"Test\"]"
   ]
  },
  {
   "cell_type": "markdown",
   "id": "409c8919",
   "metadata": {},
   "source": [
    "In lists we can store data with different types. For example strings, integers, real numbers."
   ]
  },
  {
   "cell_type": "code",
   "execution_count": 6,
   "id": "1bb8dcef",
   "metadata": {},
   "outputs": [],
   "source": [
    "mixed_list = [\"Hello\", 6, 7.8] # python lists are heterogeneous"
   ]
  },
  {
   "cell_type": "markdown",
   "id": "819e793b",
   "metadata": {},
   "source": [
    "We can address diferent elements of lists and work with it just like with regular variables. To select element you have to specify its number."
   ]
  },
  {
   "cell_type": "code",
   "execution_count": 7,
   "id": "d3e01a60",
   "metadata": {},
   "outputs": [
    {
     "name": "stdout",
     "output_type": "stream",
     "text": [
      "[4, 8, 9, 2, 6]\n",
      "8\n"
     ]
    }
   ],
   "source": [
    "print(numbers) # prints whole list\n",
    "print(numbers[1]) # prints second list element"
   ]
  },
  {
   "cell_type": "markdown",
   "id": "42c58e93",
   "metadata": {},
   "source": [
    "**Numeration starts from zero!**\n",
    "\n",
    "> Actualy, this rule has its [rational justification](http://python-history.blogspot.com/2013/10/why-python-uses-0-based-indexing.html).\n",
    "\n",
    "If list stores elements of different types it will no \"bother\" each other. For example, if list has string it will no convert another elements to strings.\n",
    "\n",
    "This applies only to regular lists in Python. A bit later we will cover numpy arrays which is different."
   ]
  },
  {
   "cell_type": "code",
   "execution_count": 8,
   "id": "8290a627",
   "metadata": {},
   "outputs": [
    {
     "name": "stdout",
     "output_type": "stream",
     "text": [
      "['Hello', 6, 7.8]\n",
      "11.8\n"
     ]
    }
   ],
   "source": [
    "print(mixed_list)\n",
    "print(mixed_list[2] + 4)"
   ]
  },
  {
   "cell_type": "markdown",
   "id": "241b7615",
   "metadata": {},
   "source": [
    "You can change list's elements just like values of regular variables."
   ]
  },
  {
   "cell_type": "code",
   "execution_count": 9,
   "id": "914bfc11",
   "metadata": {},
   "outputs": [
    {
     "data": {
      "text/plain": [
       "[4, 8, 9, 2, 6]"
      ]
     },
     "execution_count": 9,
     "metadata": {},
     "output_type": "execute_result"
    }
   ],
   "source": [
    "numbers"
   ]
  },
  {
   "cell_type": "code",
   "execution_count": 10,
   "id": "424b1fe5",
   "metadata": {},
   "outputs": [
    {
     "data": {
      "text/plain": [
       "[4, 222, 9, 2, 6]"
      ]
     },
     "execution_count": 10,
     "metadata": {},
     "output_type": "execute_result"
    }
   ],
   "source": [
    "numbers[1] = 222 # change secord element\n",
    "numbers"
   ]
  },
  {
   "cell_type": "markdown",
   "id": "58e54873",
   "metadata": {},
   "source": [
    "> List in Python based on standard C arrays and has its properties in context of performance: particulary, addressing element by its index has O(1) complexity and is not mass operation.\n",
    "\n",
    "To know list length you can use `len` function."
   ]
  },
  {
   "cell_type": "code",
   "execution_count": 11,
   "id": "0684ce1b",
   "metadata": {},
   "outputs": [
    {
     "data": {
      "text/plain": [
       "5"
      ]
     },
     "execution_count": 11,
     "metadata": {},
     "output_type": "execute_result"
    }
   ],
   "source": [
    "len(numbers)"
   ]
  },
  {
   "cell_type": "markdown",
   "id": "c5e7d13f",
   "metadata": {},
   "source": [
    "You can see this is not last elemnt index, but amount of elements. If you want to get last elemnt, its index will be `len(numbers) - 1`. But in Python you can address list elements much esier, counter it from the \"end\":"
   ]
  },
  {
   "cell_type": "code",
   "execution_count": 12,
   "id": "84206c54",
   "metadata": {},
   "outputs": [
    {
     "data": {
      "text/plain": [
       "5"
      ]
     },
     "execution_count": 12,
     "metadata": {},
     "output_type": "execute_result"
    }
   ],
   "source": [
    "numbers = [4, 8, 2, 5]\n",
    "numbers[-1] # get last element"
   ]
  },
  {
   "cell_type": "code",
   "execution_count": 13,
   "id": "2fcbf8ed",
   "metadata": {},
   "outputs": [
    {
     "data": {
      "text/plain": [
       "2"
      ]
     },
     "execution_count": 13,
     "metadata": {},
     "output_type": "execute_result"
    }
   ],
   "source": [
    "numbers[-2]"
   ]
  },
  {
   "cell_type": "markdown",
   "id": "bf7ac854",
   "metadata": {},
   "source": [
    "If you try to get element with unknown index, you'll recieve an error."
   ]
  },
  {
   "cell_type": "code",
   "execution_count": 14,
   "id": "423700f4",
   "metadata": {},
   "outputs": [
    {
     "ename": "IndexError",
     "evalue": "list assignment index out of range",
     "output_type": "error",
     "traceback": [
      "\u001b[0;31m---------------------------------------------------------------------------\u001b[0m",
      "\u001b[0;31mIndexError\u001b[0m                                Traceback (most recent call last)",
      "\u001b[0;32m<ipython-input-14-0c9a177b335e>\u001b[0m in \u001b[0;36m<module>\u001b[0;34m\u001b[0m\n\u001b[0;32m----> 1\u001b[0;31m \u001b[0mnumbers\u001b[0m\u001b[0;34m[\u001b[0m\u001b[0;36m5\u001b[0m\u001b[0;34m]\u001b[0m \u001b[0;34m=\u001b[0m \u001b[0;36m100\u001b[0m\u001b[0;34m\u001b[0m\u001b[0;34m\u001b[0m\u001b[0m\n\u001b[0m",
      "\u001b[0;31mIndexError\u001b[0m: list assignment index out of range"
     ]
    }
   ],
   "source": [
    "numbers[5] = 100 # error"
   ]
  },
  {
   "cell_type": "markdown",
   "id": "8490937a",
   "metadata": {},
   "source": [
    "But you can add elements to the ond of list:"
   ]
  },
  {
   "cell_type": "code",
   "execution_count": 15,
   "id": "efc087aa",
   "metadata": {},
   "outputs": [
    {
     "name": "stdout",
     "output_type": "stream",
     "text": [
      "[7, 6, 2]\n",
      "[7, 6, 2, 777]\n"
     ]
    }
   ],
   "source": [
    "numbers = [7, 6, 2]\n",
    "print(numbers)\n",
    "numbers.append(777) # add number to the end\n",
    "print(numbers)"
   ]
  },
  {
   "cell_type": "markdown",
   "id": "6585f5e8",
   "metadata": {},
   "source": [
    "Word append - is a \"method\" - function which \"belongs\" to some object (in our case this object is `numbers` list) and made smth with this object. `numbers`, as every list, has many methods. You can type `numbers.` and press tab (after dot) to get list of available methods. Also you can type `help(list)` or even `help(numbers)` (in our case) and get short description of this methods. For example, you can learn this way lists has another method named `extend`. "
   ]
  },
  {
   "cell_type": "code",
   "execution_count": 16,
   "id": "a38009c5",
   "metadata": {},
   "outputs": [
    {
     "name": "stdout",
     "output_type": "stream",
     "text": [
      "[7, 6, 2, 777]\n",
      "[7, 6, 2, 777, 3, 7, 5]\n"
     ]
    }
   ],
   "source": [
    "print(numbers)\n",
    "numbers.extend([3, 7, 5]) # add another list to the end of numbers\n",
    "print(numbers)"
   ]
  },
  {
   "cell_type": "markdown",
   "id": "a6880553",
   "metadata": {},
   "source": [
    "`extend` method allows to add several elemnts to list at once. It gets list as input which we want to add: pay attention to square brackets inside parenthesis when call this method – it creates new list, which passed to `extend` method. Methods `append` and `extend` changes list it applies to. Sometimes you need to create new list by concating two others, instead of mutating existing one. You can do it."
   ]
  },
  {
   "cell_type": "code",
   "execution_count": 18,
   "id": "cc9e65f2",
   "metadata": {},
   "outputs": [
    {
     "name": "stdout",
     "output_type": "stream",
     "text": [
      "[5, 8, 2, 1, 9, 4]\n"
     ]
    }
   ],
   "source": [
    "first_list = [5, 8, 2]\n",
    "second_list = [1, 9, 4]\n",
    "new_list = first_list + second_list\n",
    "print(new_list)"
   ]
  },
  {
   "cell_type": "markdown",
   "id": "1335edf2",
   "metadata": {},
   "source": [
    "Plus symbol here means not addition by elements (as you could thought), but concatination. List `first_list` and `second_list` will not change."
   ]
  },
  {
   "cell_type": "code",
   "execution_count": 19,
   "id": "faa1f660",
   "metadata": {},
   "outputs": [
    {
     "name": "stdout",
     "output_type": "stream",
     "text": [
      "[5, 8, 2]\n",
      "[1, 9, 4]\n"
     ]
    }
   ],
   "source": [
    "print(first_list)\n",
    "print(second_list)"
   ]
  },
  {
   "cell_type": "markdown",
   "id": "c2955034",
   "metadata": {},
   "source": [
    "Now you can have a wish to use addition instead of `extend` method."
   ]
  },
  {
   "cell_type": "code",
   "execution_count": 21,
   "id": "e14c49d0",
   "metadata": {},
   "outputs": [
    {
     "name": "stdout",
     "output_type": "stream",
     "text": [
      "[7, 6, 2, 777, 3, 7, 5]\n",
      "[7, 6, 2, 777, 3, 7, 5, 2, 6, 9]\n"
     ]
    }
   ],
   "source": [
    "print(numbers)\n",
    "# do not do like this\n",
    "numbers = numbers + [2, 6, 9]\n",
    "print(numbers)"
   ]
  },
  {
   "cell_type": "markdown",
   "id": "71e4349f",
   "metadata": {},
   "source": [
    "Generally, this code is working, but you shouldn't do like this: due execution concatination operation new list will be created, then all `numbers` elements will be copied to it, then elements from second list will be added to it, after that old `numbers` will be rewrited. In case of many elements in `numbers` its copying will take much more time. Better to add elements to existing list."
   ]
  },
  {
   "cell_type": "markdown",
   "id": "6e498a1f",
   "metadata": {},
   "source": [
    "## Slices\n",
    "\n",
    "Sometimes we do not need whole list, but its bit. We can get it specifying two numbers in square brackets, separeted with a colon. "
   ]
  },
  {
   "cell_type": "code",
   "execution_count": 22,
   "id": "e660ea94",
   "metadata": {},
   "outputs": [
    {
     "name": "stdout",
     "output_type": "stream",
     "text": [
      "[7, 6, 2, 777, 3, 7, 5, 2, 6, 9]\n",
      "[6, 2, 777]\n"
     ]
    }
   ],
   "source": [
    "print(numbers)\n",
    "print(numbers[1:4])"
   ]
  },
  {
   "cell_type": "markdown",
   "id": "a76e6d44",
   "metadata": {},
   "source": [
    "It's named *slice*. Pay attention: left slice end includes (element with index 1 – is six) and right one is not. This rule works all the time. This convention quite convinient because it allows to count elemts in slice - to do this, you need to subtract left end from right one (in our case 4 - 1 = 3).\n",
    "\n",
    "If left elemnt is not specified, then its assumed as list start. And if right one – its assumed as list end."
   ]
  },
  {
   "cell_type": "code",
   "execution_count": 23,
   "id": "4db6ed81",
   "metadata": {},
   "outputs": [
    {
     "name": "stdout",
     "output_type": "stream",
     "text": [
      "[2, 6, 9]\n",
      "[7, 6, 2, 777, 3, 7, 5]\n"
     ]
    }
   ],
   "source": [
    "print(numbers[7:])\n",
    "print(numbers[:7])"
   ]
  },
  {
   "cell_type": "markdown",
   "id": "df112c88",
   "metadata": {},
   "source": [
    "Following equation will be always true: list `numbers` is same as `numbers[:k] + numbers[k:]`, where k – any index.\n",
    "\n",
    "Slices can be used to assignments."
   ]
  },
  {
   "cell_type": "code",
   "execution_count": 24,
   "id": "502d09c2",
   "metadata": {},
   "outputs": [
    {
     "name": "stdout",
     "output_type": "stream",
     "text": [
      "[8, 9]\n",
      "[5, 55, 77, 10]\n"
     ]
    }
   ],
   "source": [
    "numbers = [5, 8, 9, 10]\n",
    "print(numbers[1:3])\n",
    "numbers[1:3] = [55, 77]\n",
    "print(numbers)"
   ]
  },
  {
   "cell_type": "markdown",
   "id": "678a3ac0",
   "metadata": {},
   "source": [
    "Not necessary to have list length same with slice. You can assign more long list (then source one will extend), or more less (then it'll narrow down). You can use slices to add some elements inside list (for one element better to use `insert`)."
   ]
  },
  {
   "cell_type": "code",
   "execution_count": 25,
   "id": "d46071ce",
   "metadata": {},
   "outputs": [
    {
     "name": "stdout",
     "output_type": "stream",
     "text": [
      "[]\n",
      "[6, 99, 77, 55, 8, 9]\n"
     ]
    }
   ],
   "source": [
    "numbers = [6, 8, 9]\n",
    "print(numbers[1:1])\n",
    "# this is empty slice\n",
    "numbers[1:1] = [99, 77, 55]\n",
    "print(numbers)"
   ]
  },
  {
   "cell_type": "markdown",
   "id": "7a284bcf",
   "metadata": {},
   "source": [
    "> To paste some elements inside list you need to prepare space for it, mooving all follow-up elements forward. Python will do it automatically, but it takes time. So, avoid it if you can, especially with big arrays. If you really need to add smth at the start or end of list, take a look at two-side queue (deque) from `collections` module.\n",
    "\n",
    "You can delete list elements (actually everething) or slices with `del` function."
   ]
  },
  {
   "cell_type": "code",
   "execution_count": 26,
   "id": "11b03867",
   "metadata": {},
   "outputs": [
    {
     "name": "stdout",
     "output_type": "stream",
     "text": [
      "[6, 7, 9, 12, 3]\n",
      "[9, 12, 3]\n"
     ]
    }
   ],
   "source": [
    "numbers = [6, 7, 9, 12, 8, 3]\n",
    "del(numbers[4]) # delets 8\n",
    "print(numbers)\n",
    "del(numbers[0:2])\n",
    "print(numbers)"
   ]
  },
  {
   "cell_type": "markdown",
   "id": "2171c9f0",
   "metadata": {},
   "source": [
    "## Assigning and copying lists\n",
    "\n",
    "List can be treacherous. While you do not learn this section, your programms will be unpredictable and you will waste many time to debug it. So, be focused."
   ]
  },
  {
   "cell_type": "code",
   "execution_count": 27,
   "id": "cd538514",
   "metadata": {},
   "outputs": [],
   "source": [
    "first_list = [5, 8, 9, 'Hello']\n",
    "second_list = first_list"
   ]
  },
  {
   "cell_type": "code",
   "execution_count": 28,
   "id": "e0bc6030",
   "metadata": {},
   "outputs": [
    {
     "data": {
      "text/plain": [
       "[5, 8, 9, 'Hello']"
      ]
     },
     "execution_count": 28,
     "metadata": {},
     "output_type": "execute_result"
    }
   ],
   "source": [
    "first_list"
   ]
  },
  {
   "cell_type": "code",
   "execution_count": 29,
   "id": "59deda29",
   "metadata": {},
   "outputs": [
    {
     "data": {
      "text/plain": [
       "[5, 8, 9, 'Hello']"
      ]
     },
     "execution_count": 29,
     "metadata": {},
     "output_type": "execute_result"
    }
   ],
   "source": [
    "second_list"
   ]
  },
  {
   "cell_type": "markdown",
   "id": "ad881d25",
   "metadata": {},
   "source": [
    "We've created two same lists. Now, lets change one of it."
   ]
  },
  {
   "cell_type": "code",
   "execution_count": 30,
   "id": "0702dc41",
   "metadata": {},
   "outputs": [
    {
     "data": {
      "text/plain": [
       "[777, 8, 9, 'Hello']"
      ]
     },
     "execution_count": 30,
     "metadata": {},
     "output_type": "execute_result"
    }
   ],
   "source": [
    "second_list[0] = 777\n",
    "second_list"
   ]
  },
  {
   "cell_type": "markdown",
   "id": "99c8519d",
   "metadata": {},
   "source": [
    "What do you suppose to see in `first_list`?"
   ]
  },
  {
   "cell_type": "code",
   "execution_count": 31,
   "id": "f38f9367",
   "metadata": {},
   "outputs": [
    {
     "data": {
      "text/plain": [
       "[777, 8, 9, 'Hello']"
      ]
     },
     "execution_count": 31,
     "metadata": {},
     "output_type": "execute_result"
    }
   ],
   "source": [
    "first_list"
   ]
  },
  {
   "cell_type": "markdown",
   "id": "260260ce",
   "metadata": {},
   "source": [
    "In `first_list` stores not list itself byt pointer (link) to it. And when we assign `first_list` value to new variable `second_list` we do not copy it, we copy only its pointer. In other words, `second_list` is another name for same list. This is why changis `second_list` will cause `first_list` change, and wise versa.\n",
    "\n",
    "To learn it more detailed, lets see what happens with our code line by line. To do it you can use [Python Tutor](http://pythontutor.com) which can visualize code execution (you can use it to debug your programs)."
   ]
  },
  {
   "cell_type": "code",
   "execution_count": 33,
   "id": "3de04c7c",
   "metadata": {},
   "outputs": [],
   "source": [
    "%load_ext tutormagic\n",
    "# This magic will allow to past pythontutor visualization \n",
    "# directly to this notebook. \n",
    "# To use it install tutormagic package\n",
    "# pip install tutormagic"
   ]
  },
  {
   "cell_type": "code",
   "execution_count": 34,
   "id": "d5f6c2d8",
   "metadata": {},
   "outputs": [
    {
     "name": "stderr",
     "output_type": "stream",
     "text": [
      "/usr/local/lib/python3.9/site-packages/ipykernel/ipkernel.py:283: DeprecationWarning: `should_run_async` will not call `transform_cell` automatically in the future. Please pass the result to `transformed_cell` argument and any exception that happen during thetransform in `preprocessing_exc_tuple` in IPython 7.17 and above.\n",
      "  and should_run_async(code)\n"
     ]
    },
    {
     "data": {
      "text/html": [
       "\n",
       "        <iframe\n",
       "            width=\"100%\"\n",
       "            height=\"350\"\n",
       "            src=\"http://pythontutor.com/iframe-embed.html#code=first_list%20%3D%20%5B5%2C%208%2C%209%2C%20%27Hello%27%5D%0Asecond_list%20%3D%20first_list%0Asecond_list%5B0%5D%20%3D%20777%0A&origin=opt-frontend.js&cumulative=false&heapPrimitives=false&textReferences=false&curInstr=0&&verticalStack=false&py=3&rawInputLstJSON=%5B%5D&codeDivWidth=50%25&codeDivHeight=100%25\"\n",
       "            frameborder=\"0\"\n",
       "            allowfullscreen\n",
       "        ></iframe>\n",
       "        "
      ],
      "text/plain": [
       "<IPython.lib.display.IFrame at 0x10480d700>"
      ]
     },
     "metadata": {},
     "output_type": "display_data"
    }
   ],
   "source": [
    "%%tutor --lang python3 # magic\n",
    "first_list = [5, 8, 9, 'Hello']\n",
    "second_list = first_list\n",
    "second_list[0] = 777"
   ]
  },
  {
   "cell_type": "markdown",
   "id": "3c0ba9cf",
   "metadata": {},
   "source": [
    "If you really want to create new list (copy existing one), you need `copy()` method."
   ]
  },
  {
   "cell_type": "code",
   "execution_count": 35,
   "id": "263fa9d4",
   "metadata": {},
   "outputs": [
    {
     "name": "stdout",
     "output_type": "stream",
     "text": [
      "[6, 9, 2, 5]\n",
      "[100, 9, 2, 5]\n",
      "[6, 9, 2, 5]\n"
     ]
    },
    {
     "name": "stderr",
     "output_type": "stream",
     "text": [
      "/usr/local/lib/python3.9/site-packages/ipykernel/ipkernel.py:283: DeprecationWarning: `should_run_async` will not call `transform_cell` automatically in the future. Please pass the result to `transformed_cell` argument and any exception that happen during thetransform in `preprocessing_exc_tuple` in IPython 7.17 and above.\n",
      "  and should_run_async(code)\n"
     ]
    }
   ],
   "source": [
    "first_list = [6, 9, 2, 5]\n",
    "third_list = first_list.copy()\n",
    "print(third_list)\n",
    "third_list[0] = 100\n",
    "print(third_list)\n",
    "print(first_list)"
   ]
  },
  {
   "cell_type": "markdown",
   "id": "b6800067",
   "metadata": {},
   "source": [
    "As you can see now, `first_list` and `third_list` are independent. This code can be visualised."
   ]
  },
  {
   "cell_type": "code",
   "execution_count": 36,
   "id": "2cb73a50",
   "metadata": {},
   "outputs": [
    {
     "name": "stderr",
     "output_type": "stream",
     "text": [
      "/usr/local/lib/python3.9/site-packages/ipykernel/ipkernel.py:283: DeprecationWarning: `should_run_async` will not call `transform_cell` automatically in the future. Please pass the result to `transformed_cell` argument and any exception that happen during thetransform in `preprocessing_exc_tuple` in IPython 7.17 and above.\n",
      "  and should_run_async(code)\n"
     ]
    },
    {
     "data": {
      "text/html": [
       "\n",
       "        <iframe\n",
       "            width=\"100%\"\n",
       "            height=\"350\"\n",
       "            src=\"http://pythontutor.com/iframe-embed.html#code=first_list%20%3D%20%5B6%2C%209%2C%202%2C%205%5D%0Athird_list%20%3D%20first_list.copy%28%29%0Aprint%28third_list%29%0Athird_list%5B0%5D%20%3D%20100%0Aprint%28third_list%29%0Aprint%28first_list%29%0A&origin=opt-frontend.js&cumulative=false&heapPrimitives=false&textReferences=false&curInstr=0&&verticalStack=false&py=3&rawInputLstJSON=%5B%5D&codeDivWidth=50%25&codeDivHeight=100%25\"\n",
       "            frameborder=\"0\"\n",
       "            allowfullscreen\n",
       "        ></iframe>\n",
       "        "
      ],
      "text/plain": [
       "<IPython.lib.display.IFrame at 0x10480ddc0>"
      ]
     },
     "metadata": {},
     "output_type": "display_data"
    }
   ],
   "source": [
    "%%tutor --lang python3\n",
    "first_list = [6, 9, 2, 5]\n",
    "third_list = first_list.copy()\n",
    "print(third_list)\n",
    "third_list[0] = 100\n",
    "print(third_list)\n",
    "print(first_list)"
   ]
  },
  {
   "cell_type": "markdown",
   "id": "b9250151",
   "metadata": {},
   "source": [
    "You can meet this following syntax for list copying:"
   ]
  },
  {
   "cell_type": "code",
   "execution_count": 37,
   "id": "ae033eaf",
   "metadata": {},
   "outputs": [
    {
     "name": "stderr",
     "output_type": "stream",
     "text": [
      "/usr/local/lib/python3.9/site-packages/ipykernel/ipkernel.py:283: DeprecationWarning: `should_run_async` will not call `transform_cell` automatically in the future. Please pass the result to `transformed_cell` argument and any exception that happen during thetransform in `preprocessing_exc_tuple` in IPython 7.17 and above.\n",
      "  and should_run_async(code)\n"
     ]
    }
   ],
   "source": [
    "first_list = [6, 9, 2, 5]\n",
    "other_list = first_list[:]"
   ]
  },
  {
   "cell_type": "markdown",
   "id": "a87d6585",
   "metadata": {},
   "source": [
    "It'll work (at least for regular lists). Here `[:]` - slice which start is start of inital list and end - is end. This code comes from Python 2, because there was no `copy()` method."
   ]
  },
  {
   "cell_type": "markdown",
   "id": "d1e1c4ed",
   "metadata": {},
   "source": [
    "## For cycle"
   ]
  },
  {
   "cell_type": "code",
   "execution_count": 39,
   "id": "9a50d128",
   "metadata": {},
   "outputs": [
    {
     "name": "stdout",
     "output_type": "stream",
     "text": [
      "5\n",
      "10\n",
      "2\n",
      "6\n",
      "The end\n",
      "[4, 9, 1, 5]\n"
     ]
    },
    {
     "name": "stderr",
     "output_type": "stream",
     "text": [
      "/usr/local/lib/python3.9/site-packages/ipykernel/ipkernel.py:283: DeprecationWarning: `should_run_async` will not call `transform_cell` automatically in the future. Please pass the result to `transformed_cell` argument and any exception that happen during thetransform in `preprocessing_exc_tuple` in IPython 7.17 and above.\n",
      "  and should_run_async(code)\n"
     ]
    }
   ],
   "source": [
    "numbers = [4, 9, 1, 5]\n",
    "for x in numbers:\n",
    "    y = x + 1\n",
    "    print(y)\n",
    "print(\"The end\")\n",
    "print(numbers)"
   ]
  },
  {
   "cell_type": "markdown",
   "id": "054ca282",
   "metadata": {},
   "source": [
    "Indents highlights *cycle body*, which consists (in our case) from two commands."
   ]
  },
  {
   "cell_type": "markdown",
   "id": "f3ff1e26",
   "metadata": {},
   "source": [
    "Sometimes you have no concret list and you just need to execute some code severl times, more over, you do not know in advance how much times. To solve this task there are `range()`."
   ]
  },
  {
   "cell_type": "code",
   "execution_count": 40,
   "id": "af594a53",
   "metadata": {},
   "outputs": [
    {
     "name": "stdout",
     "output_type": "stream",
     "text": [
      "Hello, i = 0\n",
      "Hello, i = 1\n",
      "Hello, i = 2\n",
      "Hello, i = 3\n",
      "Hello, i = 4\n"
     ]
    },
    {
     "name": "stderr",
     "output_type": "stream",
     "text": [
      "/usr/local/lib/python3.9/site-packages/ipykernel/ipkernel.py:283: DeprecationWarning: `should_run_async` will not call `transform_cell` automatically in the future. Please pass the result to `transformed_cell` argument and any exception that happen during thetransform in `preprocessing_exc_tuple` in IPython 7.17 and above.\n",
      "  and should_run_async(code)\n"
     ]
    }
   ],
   "source": [
    "for i in range(5):\n",
    "    print(\"Hello, i =\", i)"
   ]
  },
  {
   "cell_type": "markdown",
   "id": "26564e5b",
   "metadata": {},
   "source": [
    "`range(n)` behaves like list with integer numbers from 0 to n - 1 (last elemnt is not included). It has exact n elements. Also, you can use `range` with two arguments: specify interval start and end: `range(3, 9)`, or even convert `range` to real list with `list` function."
   ]
  },
  {
   "cell_type": "code",
   "execution_count": 41,
   "id": "3edeb037",
   "metadata": {},
   "outputs": [
    {
     "name": "stderr",
     "output_type": "stream",
     "text": [
      "/usr/local/lib/python3.9/site-packages/ipykernel/ipkernel.py:283: DeprecationWarning: `should_run_async` will not call `transform_cell` automatically in the future. Please pass the result to `transformed_cell` argument and any exception that happen during thetransform in `preprocessing_exc_tuple` in IPython 7.17 and above.\n",
      "  and should_run_async(code)\n"
     ]
    },
    {
     "data": {
      "text/plain": [
       "[0, 1, 2, 3, 4]"
      ]
     },
     "execution_count": 41,
     "metadata": {},
     "output_type": "execute_result"
    }
   ],
   "source": [
    "list(range(5))"
   ]
  },
  {
   "cell_type": "code",
   "execution_count": 42,
   "id": "d58215c2",
   "metadata": {},
   "outputs": [
    {
     "name": "stderr",
     "output_type": "stream",
     "text": [
      "/usr/local/lib/python3.9/site-packages/ipykernel/ipkernel.py:283: DeprecationWarning: `should_run_async` will not call `transform_cell` automatically in the future. Please pass the result to `transformed_cell` argument and any exception that happen during thetransform in `preprocessing_exc_tuple` in IPython 7.17 and above.\n",
      "  and should_run_async(code)\n"
     ]
    },
    {
     "data": {
      "text/plain": [
       "[3, 4, 5, 6, 7, 8]"
      ]
     },
     "execution_count": 42,
     "metadata": {},
     "output_type": "execute_result"
    }
   ],
   "source": [
    "list(range(3,9))"
   ]
  }
 ],
 "metadata": {
  "kernelspec": {
   "display_name": "Python 3",
   "language": "python",
   "name": "python3"
  },
  "language_info": {
   "codemirror_mode": {
    "name": "ipython",
    "version": 3
   },
   "file_extension": ".py",
   "mimetype": "text/x-python",
   "name": "python",
   "nbconvert_exporter": "python",
   "pygments_lexer": "ipython3",
   "version": "3.9.5"
  }
 },
 "nbformat": 4,
 "nbformat_minor": 5
}
